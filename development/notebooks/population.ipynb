{
 "cells": [
  {
   "cell_type": "code",
   "execution_count": 2,
   "metadata": {},
   "outputs": [
    {
     "name": "stdout",
     "output_type": "stream",
     "text": [
      "(81434, 14)\n"
     ]
    },
    {
     "data": {
      "text/html": [
       "<div>\n",
       "<style scoped>\n",
       "    .dataframe tbody tr th:only-of-type {\n",
       "        vertical-align: middle;\n",
       "    }\n",
       "\n",
       "    .dataframe tbody tr th {\n",
       "        vertical-align: top;\n",
       "    }\n",
       "\n",
       "    .dataframe thead th {\n",
       "        text-align: right;\n",
       "    }\n",
       "</style>\n",
       "<table border=\"1\" class=\"dataframe\">\n",
       "  <thead>\n",
       "    <tr style=\"text-align: right;\">\n",
       "      <th></th>\n",
       "      <th>city</th>\n",
       "      <th>state</th>\n",
       "      <th>census2010pop</th>\n",
       "      <th>estimatesbase2010</th>\n",
       "      <th>popestimate2010</th>\n",
       "      <th>popestimate2011</th>\n",
       "      <th>popestimate2012</th>\n",
       "      <th>popestimate2013</th>\n",
       "      <th>popestimate2014</th>\n",
       "      <th>popestimate2015</th>\n",
       "      <th>popestimate2016</th>\n",
       "      <th>popestimate2017</th>\n",
       "      <th>popestimate2018</th>\n",
       "      <th>popestimate2019</th>\n",
       "    </tr>\n",
       "  </thead>\n",
       "  <tbody>\n",
       "    <tr>\n",
       "      <th>0</th>\n",
       "      <td>AL</td>\n",
       "      <td>AL</td>\n",
       "      <td>4779736</td>\n",
       "      <td>4780125</td>\n",
       "      <td>4785437</td>\n",
       "      <td>4799069</td>\n",
       "      <td>4815588</td>\n",
       "      <td>4830081</td>\n",
       "      <td>4841799</td>\n",
       "      <td>4852347</td>\n",
       "      <td>4863525</td>\n",
       "      <td>4874486</td>\n",
       "      <td>4887681</td>\n",
       "      <td>4903185</td>\n",
       "    </tr>\n",
       "    <tr>\n",
       "      <th>1</th>\n",
       "      <td>Abbeville city</td>\n",
       "      <td>AL</td>\n",
       "      <td>2688</td>\n",
       "      <td>2705</td>\n",
       "      <td>2699</td>\n",
       "      <td>2694</td>\n",
       "      <td>2643</td>\n",
       "      <td>2628</td>\n",
       "      <td>2608</td>\n",
       "      <td>2600</td>\n",
       "      <td>2584</td>\n",
       "      <td>2575</td>\n",
       "      <td>2571</td>\n",
       "      <td>2560</td>\n",
       "    </tr>\n",
       "    <tr>\n",
       "      <th>2</th>\n",
       "      <td>Adamsville city</td>\n",
       "      <td>AL</td>\n",
       "      <td>4522</td>\n",
       "      <td>4506</td>\n",
       "      <td>4500</td>\n",
       "      <td>4493</td>\n",
       "      <td>4471</td>\n",
       "      <td>4449</td>\n",
       "      <td>4420</td>\n",
       "      <td>4390</td>\n",
       "      <td>4356</td>\n",
       "      <td>4327</td>\n",
       "      <td>4308</td>\n",
       "      <td>4281</td>\n",
       "    </tr>\n",
       "    <tr>\n",
       "      <th>3</th>\n",
       "      <td>Addison town</td>\n",
       "      <td>AL</td>\n",
       "      <td>758</td>\n",
       "      <td>754</td>\n",
       "      <td>751</td>\n",
       "      <td>750</td>\n",
       "      <td>743</td>\n",
       "      <td>742</td>\n",
       "      <td>739</td>\n",
       "      <td>734</td>\n",
       "      <td>731</td>\n",
       "      <td>726</td>\n",
       "      <td>723</td>\n",
       "      <td>718</td>\n",
       "    </tr>\n",
       "    <tr>\n",
       "      <th>4</th>\n",
       "      <td>Akron town</td>\n",
       "      <td>AL</td>\n",
       "      <td>356</td>\n",
       "      <td>356</td>\n",
       "      <td>355</td>\n",
       "      <td>347</td>\n",
       "      <td>347</td>\n",
       "      <td>343</td>\n",
       "      <td>338</td>\n",
       "      <td>339</td>\n",
       "      <td>333</td>\n",
       "      <td>332</td>\n",
       "      <td>331</td>\n",
       "      <td>328</td>\n",
       "    </tr>\n",
       "  </tbody>\n",
       "</table>\n",
       "</div>"
      ],
      "text/plain": [
       "              city state  census2010pop  estimatesbase2010  popestimate2010  \\\n",
       "0               AL    AL        4779736            4780125          4785437   \n",
       "1   Abbeville city    AL           2688               2705             2699   \n",
       "2  Adamsville city    AL           4522               4506             4500   \n",
       "3     Addison town    AL            758                754              751   \n",
       "4       Akron town    AL            356                356              355   \n",
       "\n",
       "   popestimate2011  popestimate2012  popestimate2013  popestimate2014  \\\n",
       "0          4799069          4815588          4830081          4841799   \n",
       "1             2694             2643             2628             2608   \n",
       "2             4493             4471             4449             4420   \n",
       "3              750              743              742              739   \n",
       "4              347              347              343              338   \n",
       "\n",
       "   popestimate2015  popestimate2016  popestimate2017  popestimate2018  \\\n",
       "0          4852347          4863525          4874486          4887681   \n",
       "1             2600             2584             2575             2571   \n",
       "2             4390             4356             4327             4308   \n",
       "3              734              731              726              723   \n",
       "4              339              333              332              331   \n",
       "\n",
       "   popestimate2019  \n",
       "0          4903185  \n",
       "1             2560  \n",
       "2             4281  \n",
       "3              718  \n",
       "4              328  "
      ]
     },
     "execution_count": 2,
     "metadata": {},
     "output_type": "execute_result"
    }
   ],
   "source": [
    "import pandas as pd\n",
    "import os\n",
    "\n",
    "df = pd.read_csv(os.path.join(\"..\", \"..\", \"data\", \"census\", \"cleaned_census_data.csv\"))\n",
    "\n",
    "print(df.shape)\n",
    "df.head()"
   ]
  },
  {
   "cell_type": "code",
   "execution_count": 41,
   "metadata": {},
   "outputs": [
    {
     "data": {
      "text/plain": [
       "popestimate2010    2699\n",
       "popestimate2011    2694\n",
       "popestimate2012    2643\n",
       "popestimate2013    2628\n",
       "popestimate2014    2608\n",
       "popestimate2015    2600\n",
       "popestimate2016    2584\n",
       "popestimate2017    2575\n",
       "popestimate2018    2571\n",
       "popestimate2019    2560\n",
       "Name: Abbeville city, AL, dtype: object"
      ]
     },
     "execution_count": 41,
     "metadata": {},
     "output_type": "execute_result"
    }
   ],
   "source": [
    "subset = df[(df[\"city\"] == \"Abbeville city\") & (df[\"state\"] == \"AL\")].reset_index(drop=True).T[0]\n",
    "subset.name = f\"{subset.city}, {subset.state}\"\n",
    "\n",
    "preprocessed = subset.take([n for n in range(4, len(subset))])\n",
    "preprocessed"
   ]
  },
  {
   "cell_type": "code",
   "execution_count": 46,
   "metadata": {},
   "outputs": [
    {
     "data": {
      "text/plain": [
       "2010-12-31    2699\n",
       "2011-12-31    2694\n",
       "2012-12-31    2643\n",
       "2013-12-31    2628\n",
       "2014-12-31    2608\n",
       "2015-12-31    2600\n",
       "2016-12-31    2584\n",
       "2017-12-31    2575\n",
       "2018-12-31    2571\n",
       "2019-12-31    2560\n",
       "Name: Abbeville city, AL, dtype: object"
      ]
     },
     "execution_count": 46,
     "metadata": {},
     "output_type": "execute_result"
    }
   ],
   "source": [
    "from datetime import datetime\n",
    "\n",
    "preprocessed.rename(lambda x: datetime(int(x[-4:]), 12, 31))"
   ]
  },
  {
   "cell_type": "code",
   "execution_count": 48,
   "metadata": {},
   "outputs": [
    {
     "data": {
      "text/plain": [
       "range(0, 81434)"
      ]
     },
     "execution_count": 48,
     "metadata": {},
     "output_type": "execute_result"
    }
   ],
   "source": [
    "range(len(df.index))"
   ]
  },
  {
   "cell_type": "code",
   "execution_count": 50,
   "metadata": {},
   "outputs": [
    {
     "data": {
      "text/plain": [
       "('AL', 'AL')"
      ]
     },
     "execution_count": 50,
     "metadata": {},
     "output_type": "execute_result"
    }
   ],
   "source": [
    "df[\"city\"][0], df[\"state\"][0]"
   ]
  },
  {
   "cell_type": "code",
   "execution_count": 52,
   "metadata": {},
   "outputs": [
    {
     "data": {
      "text/plain": [
       "city                      AL\n",
       "state                     AL\n",
       "census2010pop        4779736\n",
       "estimatesbase2010    4780125\n",
       "popestimate2010      4785437\n",
       "popestimate2011      4799069\n",
       "popestimate2012      4815588\n",
       "popestimate2013      4830081\n",
       "popestimate2014      4841799\n",
       "popestimate2015      4852347\n",
       "popestimate2016      4863525\n",
       "popestimate2017      4874486\n",
       "popestimate2018      4887681\n",
       "popestimate2019      4903185\n",
       "Name: AL, AL, dtype: object"
      ]
     },
     "execution_count": 52,
     "metadata": {},
     "output_type": "execute_result"
    }
   ],
   "source": [
    "subsets = []\n",
    "\n",
    "for i in range(len(df.index) - 1):\n",
    "    subset = df[(df[\"city\"] == df[\"city\"][i]) & (df[\"state\"] == df[\"state\"][i])].reset_index(drop=True).T[0]\n",
    "    subset.name = f\"{subset.city}, {subset.state}\"\n",
    "    preprocessed = subset.take([n for n in range(4, len(subset))])\n",
    "    preprocessed.rename(lambda x: datetime(int(x[-4:]), 12, 31))\n",
    "    subsets.append(subset)\n",
    "    \n",
    "subsets[0]"
   ]
  },
  {
   "cell_type": "code",
   "execution_count": null,
   "metadata": {},
   "outputs": [],
   "source": []
  }
 ],
 "metadata": {
  "kernelspec": {
   "display_name": "citrics",
   "language": "python",
   "name": "citrics"
  },
  "language_info": {
   "codemirror_mode": {
    "name": "ipython",
    "version": 3
   },
   "file_extension": ".py",
   "mimetype": "text/x-python",
   "name": "python",
   "nbconvert_exporter": "python",
   "pygments_lexer": "ipython3",
   "version": "3.8.3"
  }
 },
 "nbformat": 4,
 "nbformat_minor": 4
}
