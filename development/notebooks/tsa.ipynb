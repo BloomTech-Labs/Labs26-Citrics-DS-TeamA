{
 "cells": [
  {
   "cell_type": "markdown",
   "metadata": {},
   "source": [
    "# Time Series Analysis\n",
    "## The Basics"
   ]
  },
  {
   "cell_type": "markdown",
   "metadata": {},
   "source": [
    "### Converting a String Column or Index to DateTime Format - Rental Data Example\n",
    " \n",
    "In order to generate predictions for Time series data, the columns must first be in DataTime format.\n",
    "\n",
    "Certain strings, however, can prove to be rather tricky in this regard.\n",
    "\n",
    "As one can see from the dataset below, these data need some serious preprocessing before Time series predictions can be performed.\n",
    "\n",
    "For one, time data are stored as column names, rather than in a single column or index."
   ]
  },
  {
   "cell_type": "code",
   "execution_count": 65,
   "metadata": {},
   "outputs": [
    {
     "name": "stdout",
     "output_type": "stream",
     "text": [
      "(2220, 83)\n"
     ]
    },
    {
     "data": {
      "text/html": [
       "<div>\n",
       "<style scoped>\n",
       "    .dataframe tbody tr th:only-of-type {\n",
       "        vertical-align: middle;\n",
       "    }\n",
       "\n",
       "    .dataframe tbody tr th {\n",
       "        vertical-align: top;\n",
       "    }\n",
       "\n",
       "    .dataframe thead th {\n",
       "        text-align: right;\n",
       "    }\n",
       "</style>\n",
       "<table border=\"1\" class=\"dataframe\">\n",
       "  <thead>\n",
       "    <tr style=\"text-align: right;\">\n",
       "      <th></th>\n",
       "      <th>city</th>\n",
       "      <th>state</th>\n",
       "      <th>bedroom_size</th>\n",
       "      <th>price_2014_01</th>\n",
       "      <th>price_2014_02</th>\n",
       "      <th>price_2014_03</th>\n",
       "      <th>price_2014_04</th>\n",
       "      <th>price_2014_05</th>\n",
       "      <th>price_2014_06</th>\n",
       "      <th>price_2014_07</th>\n",
       "      <th>...</th>\n",
       "      <th>price_2019_11</th>\n",
       "      <th>price_2019_12</th>\n",
       "      <th>price_2020_01</th>\n",
       "      <th>price_2020_02</th>\n",
       "      <th>price_2020_03</th>\n",
       "      <th>price_2020_04</th>\n",
       "      <th>price_2020_05</th>\n",
       "      <th>price_2020_06</th>\n",
       "      <th>price_2020_07</th>\n",
       "      <th>price_2020_08</th>\n",
       "    </tr>\n",
       "  </thead>\n",
       "  <tbody>\n",
       "    <tr>\n",
       "      <th>0</th>\n",
       "      <td>New York</td>\n",
       "      <td>NY</td>\n",
       "      <td>Studio</td>\n",
       "      <td>1780</td>\n",
       "      <td>1778</td>\n",
       "      <td>1781</td>\n",
       "      <td>1786</td>\n",
       "      <td>1794</td>\n",
       "      <td>1802</td>\n",
       "      <td>1817</td>\n",
       "      <td>...</td>\n",
       "      <td>1940</td>\n",
       "      <td>1943</td>\n",
       "      <td>1939</td>\n",
       "      <td>1938</td>\n",
       "      <td>1939</td>\n",
       "      <td>1934</td>\n",
       "      <td>1923</td>\n",
       "      <td>1904</td>\n",
       "      <td>1886</td>\n",
       "      <td>1864</td>\n",
       "    </tr>\n",
       "    <tr>\n",
       "      <th>1</th>\n",
       "      <td>New York</td>\n",
       "      <td>NY</td>\n",
       "      <td>1br</td>\n",
       "      <td>1976</td>\n",
       "      <td>1975</td>\n",
       "      <td>1978</td>\n",
       "      <td>1983</td>\n",
       "      <td>1992</td>\n",
       "      <td>2001</td>\n",
       "      <td>2018</td>\n",
       "      <td>...</td>\n",
       "      <td>2155</td>\n",
       "      <td>2158</td>\n",
       "      <td>2153</td>\n",
       "      <td>2152</td>\n",
       "      <td>2153</td>\n",
       "      <td>2148</td>\n",
       "      <td>2135</td>\n",
       "      <td>2115</td>\n",
       "      <td>2094</td>\n",
       "      <td>2070</td>\n",
       "    </tr>\n",
       "    <tr>\n",
       "      <th>2</th>\n",
       "      <td>New York</td>\n",
       "      <td>NY</td>\n",
       "      <td>2br</td>\n",
       "      <td>2354</td>\n",
       "      <td>2352</td>\n",
       "      <td>2356</td>\n",
       "      <td>2362</td>\n",
       "      <td>2373</td>\n",
       "      <td>2384</td>\n",
       "      <td>2404</td>\n",
       "      <td>...</td>\n",
       "      <td>2567</td>\n",
       "      <td>2570</td>\n",
       "      <td>2565</td>\n",
       "      <td>2564</td>\n",
       "      <td>2565</td>\n",
       "      <td>2559</td>\n",
       "      <td>2543</td>\n",
       "      <td>2519</td>\n",
       "      <td>2494</td>\n",
       "      <td>2466</td>\n",
       "    </tr>\n",
       "    <tr>\n",
       "      <th>3</th>\n",
       "      <td>New York</td>\n",
       "      <td>NY</td>\n",
       "      <td>3br</td>\n",
       "      <td>3036</td>\n",
       "      <td>3033</td>\n",
       "      <td>3038</td>\n",
       "      <td>3046</td>\n",
       "      <td>3060</td>\n",
       "      <td>3074</td>\n",
       "      <td>3099</td>\n",
       "      <td>...</td>\n",
       "      <td>3310</td>\n",
       "      <td>3314</td>\n",
       "      <td>3307</td>\n",
       "      <td>3306</td>\n",
       "      <td>3308</td>\n",
       "      <td>3300</td>\n",
       "      <td>3279</td>\n",
       "      <td>3248</td>\n",
       "      <td>3216</td>\n",
       "      <td>3180</td>\n",
       "    </tr>\n",
       "    <tr>\n",
       "      <th>4</th>\n",
       "      <td>New York</td>\n",
       "      <td>NY</td>\n",
       "      <td>4br</td>\n",
       "      <td>3381</td>\n",
       "      <td>3378</td>\n",
       "      <td>3383</td>\n",
       "      <td>3392</td>\n",
       "      <td>3407</td>\n",
       "      <td>3424</td>\n",
       "      <td>3452</td>\n",
       "      <td>...</td>\n",
       "      <td>3686</td>\n",
       "      <td>3691</td>\n",
       "      <td>3684</td>\n",
       "      <td>3682</td>\n",
       "      <td>3684</td>\n",
       "      <td>3675</td>\n",
       "      <td>3652</td>\n",
       "      <td>3617</td>\n",
       "      <td>3582</td>\n",
       "      <td>3541</td>\n",
       "    </tr>\n",
       "  </tbody>\n",
       "</table>\n",
       "<p>5 rows × 83 columns</p>\n",
       "</div>"
      ],
      "text/plain": [
       "       city state bedroom_size  price_2014_01  price_2014_02  price_2014_03  \\\n",
       "0  New York    NY       Studio           1780           1778           1781   \n",
       "1  New York    NY          1br           1976           1975           1978   \n",
       "2  New York    NY          2br           2354           2352           2356   \n",
       "3  New York    NY          3br           3036           3033           3038   \n",
       "4  New York    NY          4br           3381           3378           3383   \n",
       "\n",
       "   price_2014_04  price_2014_05  price_2014_06  price_2014_07  ...  \\\n",
       "0           1786           1794           1802           1817  ...   \n",
       "1           1983           1992           2001           2018  ...   \n",
       "2           2362           2373           2384           2404  ...   \n",
       "3           3046           3060           3074           3099  ...   \n",
       "4           3392           3407           3424           3452  ...   \n",
       "\n",
       "   price_2019_11  price_2019_12  price_2020_01  price_2020_02  price_2020_03  \\\n",
       "0           1940           1943           1939           1938           1939   \n",
       "1           2155           2158           2153           2152           2153   \n",
       "2           2567           2570           2565           2564           2565   \n",
       "3           3310           3314           3307           3306           3308   \n",
       "4           3686           3691           3684           3682           3684   \n",
       "\n",
       "   price_2020_04  price_2020_05  price_2020_06  price_2020_07  price_2020_08  \n",
       "0           1934           1923           1904           1886           1864  \n",
       "1           2148           2135           2115           2094           2070  \n",
       "2           2559           2543           2519           2494           2466  \n",
       "3           3300           3279           3248           3216           3180  \n",
       "4           3675           3652           3617           3582           3541  \n",
       "\n",
       "[5 rows x 83 columns]"
      ]
     },
     "execution_count": 65,
     "metadata": {},
     "output_type": "execute_result"
    }
   ],
   "source": [
    "import pandas as pd\n",
    "import os\n",
    "\n",
    "df = pd.read_csv(os.path.join(\"..\", \"..\", \"data\", \"rental\", \"apt_rental_price_clean1.csv\"))\n",
    "\n",
    "print(df.shape)\n",
    "df.head()"
   ]
  },
  {
   "cell_type": "markdown",
   "metadata": {},
   "source": [
    "#### Preprocessing"
   ]
  },
  {
   "cell_type": "code",
   "execution_count": 66,
   "metadata": {},
   "outputs": [
    {
     "name": "stdout",
     "output_type": "stream",
     "text": [
      "(83, 5)\n"
     ]
    },
    {
     "data": {
      "text/html": [
       "<div>\n",
       "<style scoped>\n",
       "    .dataframe tbody tr th:only-of-type {\n",
       "        vertical-align: middle;\n",
       "    }\n",
       "\n",
       "    .dataframe tbody tr th {\n",
       "        vertical-align: top;\n",
       "    }\n",
       "\n",
       "    .dataframe thead th {\n",
       "        text-align: right;\n",
       "    }\n",
       "</style>\n",
       "<table border=\"1\" class=\"dataframe\">\n",
       "  <thead>\n",
       "    <tr style=\"text-align: right;\">\n",
       "      <th></th>\n",
       "      <th>0</th>\n",
       "      <th>1</th>\n",
       "      <th>2</th>\n",
       "      <th>3</th>\n",
       "      <th>4</th>\n",
       "    </tr>\n",
       "  </thead>\n",
       "  <tbody>\n",
       "    <tr>\n",
       "      <th>city</th>\n",
       "      <td>New York</td>\n",
       "      <td>New York</td>\n",
       "      <td>New York</td>\n",
       "      <td>New York</td>\n",
       "      <td>New York</td>\n",
       "    </tr>\n",
       "    <tr>\n",
       "      <th>state</th>\n",
       "      <td>NY</td>\n",
       "      <td>NY</td>\n",
       "      <td>NY</td>\n",
       "      <td>NY</td>\n",
       "      <td>NY</td>\n",
       "    </tr>\n",
       "    <tr>\n",
       "      <th>bedroom_size</th>\n",
       "      <td>Studio</td>\n",
       "      <td>1br</td>\n",
       "      <td>2br</td>\n",
       "      <td>3br</td>\n",
       "      <td>4br</td>\n",
       "    </tr>\n",
       "    <tr>\n",
       "      <th>price_2014_01</th>\n",
       "      <td>1780</td>\n",
       "      <td>1976</td>\n",
       "      <td>2354</td>\n",
       "      <td>3036</td>\n",
       "      <td>3381</td>\n",
       "    </tr>\n",
       "    <tr>\n",
       "      <th>price_2014_02</th>\n",
       "      <td>1778</td>\n",
       "      <td>1975</td>\n",
       "      <td>2352</td>\n",
       "      <td>3033</td>\n",
       "      <td>3378</td>\n",
       "    </tr>\n",
       "  </tbody>\n",
       "</table>\n",
       "</div>"
      ],
      "text/plain": [
       "                      0         1         2         3         4\n",
       "city           New York  New York  New York  New York  New York\n",
       "state                NY        NY        NY        NY        NY\n",
       "bedroom_size     Studio       1br       2br       3br       4br\n",
       "price_2014_01      1780      1976      2354      3036      3381\n",
       "price_2014_02      1778      1975      2352      3033      3378"
      ]
     },
     "execution_count": 66,
     "metadata": {},
     "output_type": "execute_result"
    }
   ],
   "source": [
    "# Transposing a Subset of the Data's Columns and Rows\n",
    "\n",
    "subset = df[df.city == \"New York\"].T\n",
    "\n",
    "print(subset.shape)\n",
    "subset.head()"
   ]
  },
  {
   "cell_type": "code",
   "execution_count": 67,
   "metadata": {},
   "outputs": [
    {
     "name": "stdout",
     "output_type": "stream",
     "text": [
      "(83, 5)\n"
     ]
    },
    {
     "data": {
      "text/html": [
       "<div>\n",
       "<style scoped>\n",
       "    .dataframe tbody tr th:only-of-type {\n",
       "        vertical-align: middle;\n",
       "    }\n",
       "\n",
       "    .dataframe tbody tr th {\n",
       "        vertical-align: top;\n",
       "    }\n",
       "\n",
       "    .dataframe thead th {\n",
       "        text-align: right;\n",
       "    }\n",
       "</style>\n",
       "<table border=\"1\" class=\"dataframe\">\n",
       "  <thead>\n",
       "    <tr style=\"text-align: right;\">\n",
       "      <th></th>\n",
       "      <th>Studio</th>\n",
       "      <th>1br</th>\n",
       "      <th>2br</th>\n",
       "      <th>3br</th>\n",
       "      <th>4br</th>\n",
       "    </tr>\n",
       "  </thead>\n",
       "  <tbody>\n",
       "    <tr>\n",
       "      <th>city</th>\n",
       "      <td>New York</td>\n",
       "      <td>New York</td>\n",
       "      <td>New York</td>\n",
       "      <td>New York</td>\n",
       "      <td>New York</td>\n",
       "    </tr>\n",
       "    <tr>\n",
       "      <th>state</th>\n",
       "      <td>NY</td>\n",
       "      <td>NY</td>\n",
       "      <td>NY</td>\n",
       "      <td>NY</td>\n",
       "      <td>NY</td>\n",
       "    </tr>\n",
       "    <tr>\n",
       "      <th>bedroom_size</th>\n",
       "      <td>Studio</td>\n",
       "      <td>1br</td>\n",
       "      <td>2br</td>\n",
       "      <td>3br</td>\n",
       "      <td>4br</td>\n",
       "    </tr>\n",
       "    <tr>\n",
       "      <th>price_2014_01</th>\n",
       "      <td>1780</td>\n",
       "      <td>1976</td>\n",
       "      <td>2354</td>\n",
       "      <td>3036</td>\n",
       "      <td>3381</td>\n",
       "    </tr>\n",
       "    <tr>\n",
       "      <th>price_2014_02</th>\n",
       "      <td>1778</td>\n",
       "      <td>1975</td>\n",
       "      <td>2352</td>\n",
       "      <td>3033</td>\n",
       "      <td>3378</td>\n",
       "    </tr>\n",
       "  </tbody>\n",
       "</table>\n",
       "</div>"
      ],
      "text/plain": [
       "                 Studio       1br       2br       3br       4br\n",
       "city           New York  New York  New York  New York  New York\n",
       "state                NY        NY        NY        NY        NY\n",
       "bedroom_size     Studio       1br       2br       3br       4br\n",
       "price_2014_01      1780      1976      2354      3036      3381\n",
       "price_2014_02      1778      1975      2352      3033      3378"
      ]
     },
     "execution_count": 67,
     "metadata": {},
     "output_type": "execute_result"
    }
   ],
   "source": [
    "subset.columns = subset.loc[\"bedroom_size\"].values\n",
    "\n",
    "print(subset.shape)\n",
    "subset.head()"
   ]
  },
  {
   "cell_type": "code",
   "execution_count": 68,
   "metadata": {},
   "outputs": [
    {
     "name": "stdout",
     "output_type": "stream",
     "text": [
      "(80, 5)\n"
     ]
    },
    {
     "data": {
      "text/html": [
       "<div>\n",
       "<style scoped>\n",
       "    .dataframe tbody tr th:only-of-type {\n",
       "        vertical-align: middle;\n",
       "    }\n",
       "\n",
       "    .dataframe tbody tr th {\n",
       "        vertical-align: top;\n",
       "    }\n",
       "\n",
       "    .dataframe thead th {\n",
       "        text-align: right;\n",
       "    }\n",
       "</style>\n",
       "<table border=\"1\" class=\"dataframe\">\n",
       "  <thead>\n",
       "    <tr style=\"text-align: right;\">\n",
       "      <th></th>\n",
       "      <th>Studio</th>\n",
       "      <th>1br</th>\n",
       "      <th>2br</th>\n",
       "      <th>3br</th>\n",
       "      <th>4br</th>\n",
       "    </tr>\n",
       "  </thead>\n",
       "  <tbody>\n",
       "    <tr>\n",
       "      <th>price_2014_01</th>\n",
       "      <td>1780</td>\n",
       "      <td>1976</td>\n",
       "      <td>2354</td>\n",
       "      <td>3036</td>\n",
       "      <td>3381</td>\n",
       "    </tr>\n",
       "    <tr>\n",
       "      <th>price_2014_02</th>\n",
       "      <td>1778</td>\n",
       "      <td>1975</td>\n",
       "      <td>2352</td>\n",
       "      <td>3033</td>\n",
       "      <td>3378</td>\n",
       "    </tr>\n",
       "    <tr>\n",
       "      <th>price_2014_03</th>\n",
       "      <td>1781</td>\n",
       "      <td>1978</td>\n",
       "      <td>2356</td>\n",
       "      <td>3038</td>\n",
       "      <td>3383</td>\n",
       "    </tr>\n",
       "    <tr>\n",
       "      <th>price_2014_04</th>\n",
       "      <td>1786</td>\n",
       "      <td>1983</td>\n",
       "      <td>2362</td>\n",
       "      <td>3046</td>\n",
       "      <td>3392</td>\n",
       "    </tr>\n",
       "    <tr>\n",
       "      <th>price_2014_05</th>\n",
       "      <td>1794</td>\n",
       "      <td>1992</td>\n",
       "      <td>2373</td>\n",
       "      <td>3060</td>\n",
       "      <td>3407</td>\n",
       "    </tr>\n",
       "  </tbody>\n",
       "</table>\n",
       "</div>"
      ],
      "text/plain": [
       "              Studio   1br   2br   3br   4br\n",
       "price_2014_01   1780  1976  2354  3036  3381\n",
       "price_2014_02   1778  1975  2352  3033  3378\n",
       "price_2014_03   1781  1978  2356  3038  3383\n",
       "price_2014_04   1786  1983  2362  3046  3392\n",
       "price_2014_05   1794  1992  2373  3060  3407"
      ]
     },
     "execution_count": 68,
     "metadata": {},
     "output_type": "execute_result"
    }
   ],
   "source": [
    "city = subset[\"Studio\"][\"city\"]\n",
    "state = subset[\"Studio\"][\"state\"]\n",
    "\n",
    "subset.drop([\"city\", \"state\", \"bedroom_size\"], inplace=True)\n",
    "\n",
    "print(subset.shape)\n",
    "subset.head()"
   ]
  },
  {
   "cell_type": "code",
   "execution_count": 69,
   "metadata": {},
   "outputs": [
    {
     "name": "stdout",
     "output_type": "stream",
     "text": [
      "(80, 7)\n"
     ]
    },
    {
     "data": {
      "text/html": [
       "<div>\n",
       "<style scoped>\n",
       "    .dataframe tbody tr th:only-of-type {\n",
       "        vertical-align: middle;\n",
       "    }\n",
       "\n",
       "    .dataframe tbody tr th {\n",
       "        vertical-align: top;\n",
       "    }\n",
       "\n",
       "    .dataframe thead th {\n",
       "        text-align: right;\n",
       "    }\n",
       "</style>\n",
       "<table border=\"1\" class=\"dataframe\">\n",
       "  <thead>\n",
       "    <tr style=\"text-align: right;\">\n",
       "      <th></th>\n",
       "      <th>city</th>\n",
       "      <th>state</th>\n",
       "      <th>Studio</th>\n",
       "      <th>1br</th>\n",
       "      <th>2br</th>\n",
       "      <th>3br</th>\n",
       "      <th>4br</th>\n",
       "    </tr>\n",
       "  </thead>\n",
       "  <tbody>\n",
       "    <tr>\n",
       "      <th>price_2014_01</th>\n",
       "      <td>New York</td>\n",
       "      <td>NY</td>\n",
       "      <td>1780</td>\n",
       "      <td>1976</td>\n",
       "      <td>2354</td>\n",
       "      <td>3036</td>\n",
       "      <td>3381</td>\n",
       "    </tr>\n",
       "    <tr>\n",
       "      <th>price_2014_02</th>\n",
       "      <td>New York</td>\n",
       "      <td>NY</td>\n",
       "      <td>1778</td>\n",
       "      <td>1975</td>\n",
       "      <td>2352</td>\n",
       "      <td>3033</td>\n",
       "      <td>3378</td>\n",
       "    </tr>\n",
       "    <tr>\n",
       "      <th>price_2014_03</th>\n",
       "      <td>New York</td>\n",
       "      <td>NY</td>\n",
       "      <td>1781</td>\n",
       "      <td>1978</td>\n",
       "      <td>2356</td>\n",
       "      <td>3038</td>\n",
       "      <td>3383</td>\n",
       "    </tr>\n",
       "    <tr>\n",
       "      <th>price_2014_04</th>\n",
       "      <td>New York</td>\n",
       "      <td>NY</td>\n",
       "      <td>1786</td>\n",
       "      <td>1983</td>\n",
       "      <td>2362</td>\n",
       "      <td>3046</td>\n",
       "      <td>3392</td>\n",
       "    </tr>\n",
       "    <tr>\n",
       "      <th>price_2014_05</th>\n",
       "      <td>New York</td>\n",
       "      <td>NY</td>\n",
       "      <td>1794</td>\n",
       "      <td>1992</td>\n",
       "      <td>2373</td>\n",
       "      <td>3060</td>\n",
       "      <td>3407</td>\n",
       "    </tr>\n",
       "  </tbody>\n",
       "</table>\n",
       "</div>"
      ],
      "text/plain": [
       "                   city state Studio   1br   2br   3br   4br\n",
       "price_2014_01  New York    NY   1780  1976  2354  3036  3381\n",
       "price_2014_02  New York    NY   1778  1975  2352  3033  3378\n",
       "price_2014_03  New York    NY   1781  1978  2356  3038  3383\n",
       "price_2014_04  New York    NY   1786  1983  2362  3046  3392\n",
       "price_2014_05  New York    NY   1794  1992  2373  3060  3407"
      ]
     },
     "execution_count": 69,
     "metadata": {},
     "output_type": "execute_result"
    }
   ],
   "source": [
    "subset.insert(0, \"city\", [city] * len(subset.index))\n",
    "subset.insert(1, \"state\", [state] * len(subset.index))\n",
    "\n",
    "print(subset.shape)\n",
    "subset.head()"
   ]
  },
  {
   "cell_type": "markdown",
   "metadata": {},
   "source": [
    "#### String to DateTime Conversion"
   ]
  },
  {
   "cell_type": "code",
   "execution_count": 70,
   "metadata": {},
   "outputs": [
    {
     "data": {
      "text/plain": [
       "Index(['price_2014_01', 'price_2014_02', 'price_2014_03', 'price_2014_04',\n",
       "       'price_2014_05', 'price_2014_06', 'price_2014_07', 'price_2014_08',\n",
       "       'price_2014_09', 'price_2014_10', 'price_2014_11', 'price_2014_12',\n",
       "       'price_2015_01', 'price_2015_02', 'price_2015_03', 'price_2015_04',\n",
       "       'price_2015_05', 'price_2015_06', 'price_2015_07', 'price_2015_08',\n",
       "       'price_2015_09', 'price_2015_10', 'price_2015_11', 'price_2015_12',\n",
       "       'price_2016_01', 'price_2016_02', 'price_2016_03', 'price_2016_04',\n",
       "       'price_2016_05', 'price_2016_06', 'price_2016_07', 'price_2016_08',\n",
       "       'price_2016_09', 'price_2016_10', 'price_2016_11', 'price_2016_12',\n",
       "       'price_2017_01', 'price_2017_02', 'price_2017_03', 'price_2017_04',\n",
       "       'price_2017_05', 'price_2017_06', 'price_2017_07', 'price_2017_08',\n",
       "       'price_2017_09', 'price_2017_10', 'price_2017_11', 'price_2017_12',\n",
       "       'price_2018_01', 'price_2018_02', 'price_2018_03', 'price_2018_04',\n",
       "       'price_2018_05', 'price_2018_06', 'price_2018_07', 'price_2018_08',\n",
       "       'price_2018_09', 'price_2018_10', 'price_2018_11', 'price_2018_12',\n",
       "       'price_2019_01', 'price_2019_02', 'price_2019_03', 'price_2019_04',\n",
       "       'price_2019_05', 'price_2019_06', 'price_2019_07', 'price_2019_08',\n",
       "       'price_2019_09', 'price_2019_10', 'price_2019_11', 'price_2019_12',\n",
       "       'price_2020_01', 'price_2020_02', 'price_2020_03', 'price_2020_04',\n",
       "       'price_2020_05', 'price_2020_06', 'price_2020_07', 'price_2020_08'],\n",
       "      dtype='object')"
      ]
     },
     "execution_count": 70,
     "metadata": {},
     "output_type": "execute_result"
    }
   ],
   "source": [
    "subset.index"
   ]
  },
  {
   "cell_type": "code",
   "execution_count": 71,
   "metadata": {},
   "outputs": [
    {
     "name": "stdout",
     "output_type": "stream",
     "text": [
      "<class 'str'>\n"
     ]
    },
    {
     "data": {
      "text/plain": [
       "'price_2014_01'"
      ]
     },
     "execution_count": 71,
     "metadata": {},
     "output_type": "execute_result"
    }
   ],
   "source": [
    "print(type(subset.index[0]))\n",
    "subset.index[0]"
   ]
  },
  {
   "cell_type": "markdown",
   "metadata": {},
   "source": [
    "As one can see below, by using the `to_datetime` method's `format` parameter, the string can then effectively parse out the Year and month elements, `Y` and `m`. In this example, the day is simply inferred.\n",
    "\n",
    "For a full explanation of `format` string parsing, consult the [docs](https://docs.python.org/3/library/datetime.html#strftime-and-strptime-behavior) for Python's built-in datetime library."
   ]
  },
  {
   "cell_type": "code",
   "execution_count": 72,
   "metadata": {},
   "outputs": [
    {
     "data": {
      "text/plain": [
       "DatetimeIndex(['2014-01-01', '2014-02-01', '2014-03-01', '2014-04-01',\n",
       "               '2014-05-01', '2014-06-01', '2014-07-01', '2014-08-01',\n",
       "               '2014-09-01', '2014-10-01', '2014-11-01', '2014-12-01',\n",
       "               '2015-01-01', '2015-02-01', '2015-03-01', '2015-04-01',\n",
       "               '2015-05-01', '2015-06-01', '2015-07-01', '2015-08-01',\n",
       "               '2015-09-01', '2015-10-01', '2015-11-01', '2015-12-01',\n",
       "               '2016-01-01', '2016-02-01', '2016-03-01', '2016-04-01',\n",
       "               '2016-05-01', '2016-06-01', '2016-07-01', '2016-08-01',\n",
       "               '2016-09-01', '2016-10-01', '2016-11-01', '2016-12-01',\n",
       "               '2017-01-01', '2017-02-01', '2017-03-01', '2017-04-01',\n",
       "               '2017-05-01', '2017-06-01', '2017-07-01', '2017-08-01',\n",
       "               '2017-09-01', '2017-10-01', '2017-11-01', '2017-12-01',\n",
       "               '2018-01-01', '2018-02-01', '2018-03-01', '2018-04-01',\n",
       "               '2018-05-01', '2018-06-01', '2018-07-01', '2018-08-01',\n",
       "               '2018-09-01', '2018-10-01', '2018-11-01', '2018-12-01',\n",
       "               '2019-01-01', '2019-02-01', '2019-03-01', '2019-04-01',\n",
       "               '2019-05-01', '2019-06-01', '2019-07-01', '2019-08-01',\n",
       "               '2019-09-01', '2019-10-01', '2019-11-01', '2019-12-01',\n",
       "               '2020-01-01', '2020-02-01', '2020-03-01', '2020-04-01',\n",
       "               '2020-05-01', '2020-06-01', '2020-07-01', '2020-08-01'],\n",
       "              dtype='datetime64[ns]', freq=None)"
      ]
     },
     "execution_count": 72,
     "metadata": {},
     "output_type": "execute_result"
    }
   ],
   "source": [
    "subset.index = pd.to_datetime(subset.index, format=\"price_%Y_%m\")\n",
    "subset.index"
   ]
  },
  {
   "cell_type": "markdown",
   "metadata": {},
   "source": [
    "### Resampling - Weather Data\n",
    "\n",
    "Some data are simply way to numerous for data scientists to be able to glean useful data from directly. In this case resampling is useful in that it allows one to take averages of windows of a given length in the data. These windows reduce the frequency of the data, allowing data scientists to build scaleable predictive models for research or even production purposes.\n",
    "\n",
    "In the example below, weather data have collected from a third-party API. A cursory analysis of the `date_time` index show that these data have been collected every 6 hours, with the data encompassing a period of 11 years. "
   ]
  },
  {
   "cell_type": "code",
   "execution_count": 39,
   "metadata": {},
   "outputs": [
    {
     "name": "stdout",
     "output_type": "stream",
     "text": [
      "(17056, 24)\n"
     ]
    },
    {
     "data": {
      "text/html": [
       "<div>\n",
       "<style scoped>\n",
       "    .dataframe tbody tr th:only-of-type {\n",
       "        vertical-align: middle;\n",
       "    }\n",
       "\n",
       "    .dataframe tbody tr th {\n",
       "        vertical-align: top;\n",
       "    }\n",
       "\n",
       "    .dataframe thead th {\n",
       "        text-align: right;\n",
       "    }\n",
       "</style>\n",
       "<table border=\"1\" class=\"dataframe\">\n",
       "  <thead>\n",
       "    <tr style=\"text-align: right;\">\n",
       "      <th></th>\n",
       "      <th>maxtempC</th>\n",
       "      <th>mintempC</th>\n",
       "      <th>totalSnow_cm</th>\n",
       "      <th>sunHour</th>\n",
       "      <th>uvIndex</th>\n",
       "      <th>moon_illumination</th>\n",
       "      <th>moonrise</th>\n",
       "      <th>moonset</th>\n",
       "      <th>sunrise</th>\n",
       "      <th>sunset</th>\n",
       "      <th>...</th>\n",
       "      <th>WindGustKmph</th>\n",
       "      <th>cloudcover</th>\n",
       "      <th>humidity</th>\n",
       "      <th>precipMM</th>\n",
       "      <th>pressure</th>\n",
       "      <th>tempC</th>\n",
       "      <th>visibility</th>\n",
       "      <th>winddirDegree</th>\n",
       "      <th>windspeedKmph</th>\n",
       "      <th>location</th>\n",
       "    </tr>\n",
       "    <tr>\n",
       "      <th>date_time</th>\n",
       "      <th></th>\n",
       "      <th></th>\n",
       "      <th></th>\n",
       "      <th></th>\n",
       "      <th></th>\n",
       "      <th></th>\n",
       "      <th></th>\n",
       "      <th></th>\n",
       "      <th></th>\n",
       "      <th></th>\n",
       "      <th></th>\n",
       "      <th></th>\n",
       "      <th></th>\n",
       "      <th></th>\n",
       "      <th></th>\n",
       "      <th></th>\n",
       "      <th></th>\n",
       "      <th></th>\n",
       "      <th></th>\n",
       "      <th></th>\n",
       "      <th></th>\n",
       "    </tr>\n",
       "  </thead>\n",
       "  <tbody>\n",
       "    <tr>\n",
       "      <th>2009-01-01 00:00:00</th>\n",
       "      <td>0</td>\n",
       "      <td>0</td>\n",
       "      <td>0.0</td>\n",
       "      <td>8.7</td>\n",
       "      <td>2</td>\n",
       "      <td>31</td>\n",
       "      <td>11:07 AM</td>\n",
       "      <td>10:50 PM</td>\n",
       "      <td>08:20 AM</td>\n",
       "      <td>05:40 PM</td>\n",
       "      <td>...</td>\n",
       "      <td>38</td>\n",
       "      <td>22</td>\n",
       "      <td>62</td>\n",
       "      <td>0.0</td>\n",
       "      <td>1017</td>\n",
       "      <td>-6</td>\n",
       "      <td>10</td>\n",
       "      <td>316</td>\n",
       "      <td>27</td>\n",
       "      <td>10007</td>\n",
       "    </tr>\n",
       "    <tr>\n",
       "      <th>2009-01-01 06:00:00</th>\n",
       "      <td>0</td>\n",
       "      <td>0</td>\n",
       "      <td>0.0</td>\n",
       "      <td>8.7</td>\n",
       "      <td>2</td>\n",
       "      <td>31</td>\n",
       "      <td>11:07 AM</td>\n",
       "      <td>10:50 PM</td>\n",
       "      <td>08:20 AM</td>\n",
       "      <td>05:40 PM</td>\n",
       "      <td>...</td>\n",
       "      <td>33</td>\n",
       "      <td>7</td>\n",
       "      <td>63</td>\n",
       "      <td>0.0</td>\n",
       "      <td>1023</td>\n",
       "      <td>-8</td>\n",
       "      <td>10</td>\n",
       "      <td>315</td>\n",
       "      <td>24</td>\n",
       "      <td>10007</td>\n",
       "    </tr>\n",
       "    <tr>\n",
       "      <th>2009-01-01 12:00:00</th>\n",
       "      <td>0</td>\n",
       "      <td>0</td>\n",
       "      <td>0.0</td>\n",
       "      <td>8.7</td>\n",
       "      <td>2</td>\n",
       "      <td>31</td>\n",
       "      <td>11:07 AM</td>\n",
       "      <td>10:50 PM</td>\n",
       "      <td>08:20 AM</td>\n",
       "      <td>05:40 PM</td>\n",
       "      <td>...</td>\n",
       "      <td>26</td>\n",
       "      <td>4</td>\n",
       "      <td>42</td>\n",
       "      <td>0.0</td>\n",
       "      <td>1025</td>\n",
       "      <td>-3</td>\n",
       "      <td>10</td>\n",
       "      <td>304</td>\n",
       "      <td>23</td>\n",
       "      <td>10007</td>\n",
       "    </tr>\n",
       "    <tr>\n",
       "      <th>2009-01-01 18:00:00</th>\n",
       "      <td>0</td>\n",
       "      <td>0</td>\n",
       "      <td>0.0</td>\n",
       "      <td>8.7</td>\n",
       "      <td>2</td>\n",
       "      <td>31</td>\n",
       "      <td>11:07 AM</td>\n",
       "      <td>10:50 PM</td>\n",
       "      <td>08:20 AM</td>\n",
       "      <td>05:40 PM</td>\n",
       "      <td>...</td>\n",
       "      <td>21</td>\n",
       "      <td>16</td>\n",
       "      <td>49</td>\n",
       "      <td>0.0</td>\n",
       "      <td>1025</td>\n",
       "      <td>-5</td>\n",
       "      <td>10</td>\n",
       "      <td>294</td>\n",
       "      <td>13</td>\n",
       "      <td>10007</td>\n",
       "    </tr>\n",
       "    <tr>\n",
       "      <th>2009-01-02 00:00:00</th>\n",
       "      <td>0</td>\n",
       "      <td>0</td>\n",
       "      <td>0.1</td>\n",
       "      <td>7.0</td>\n",
       "      <td>2</td>\n",
       "      <td>38</td>\n",
       "      <td>11:28 AM</td>\n",
       "      <td>11:54 PM</td>\n",
       "      <td>08:20 AM</td>\n",
       "      <td>05:41 PM</td>\n",
       "      <td>...</td>\n",
       "      <td>14</td>\n",
       "      <td>46</td>\n",
       "      <td>49</td>\n",
       "      <td>0.0</td>\n",
       "      <td>1023</td>\n",
       "      <td>-6</td>\n",
       "      <td>10</td>\n",
       "      <td>260</td>\n",
       "      <td>8</td>\n",
       "      <td>10007</td>\n",
       "    </tr>\n",
       "  </tbody>\n",
       "</table>\n",
       "<p>5 rows × 24 columns</p>\n",
       "</div>"
      ],
      "text/plain": [
       "                     maxtempC  mintempC  totalSnow_cm  sunHour  uvIndex  \\\n",
       "date_time                                                                 \n",
       "2009-01-01 00:00:00         0         0           0.0      8.7        2   \n",
       "2009-01-01 06:00:00         0         0           0.0      8.7        2   \n",
       "2009-01-01 12:00:00         0         0           0.0      8.7        2   \n",
       "2009-01-01 18:00:00         0         0           0.0      8.7        2   \n",
       "2009-01-02 00:00:00         0         0           0.1      7.0        2   \n",
       "\n",
       "                     moon_illumination  moonrise   moonset   sunrise  \\\n",
       "date_time                                                              \n",
       "2009-01-01 00:00:00                 31  11:07 AM  10:50 PM  08:20 AM   \n",
       "2009-01-01 06:00:00                 31  11:07 AM  10:50 PM  08:20 AM   \n",
       "2009-01-01 12:00:00                 31  11:07 AM  10:50 PM  08:20 AM   \n",
       "2009-01-01 18:00:00                 31  11:07 AM  10:50 PM  08:20 AM   \n",
       "2009-01-02 00:00:00                 38  11:28 AM  11:54 PM  08:20 AM   \n",
       "\n",
       "                       sunset  ...  WindGustKmph  cloudcover  humidity  \\\n",
       "date_time                      ...                                       \n",
       "2009-01-01 00:00:00  05:40 PM  ...            38          22        62   \n",
       "2009-01-01 06:00:00  05:40 PM  ...            33           7        63   \n",
       "2009-01-01 12:00:00  05:40 PM  ...            26           4        42   \n",
       "2009-01-01 18:00:00  05:40 PM  ...            21          16        49   \n",
       "2009-01-02 00:00:00  05:41 PM  ...            14          46        49   \n",
       "\n",
       "                     precipMM  pressure  tempC  visibility  winddirDegree  \\\n",
       "date_time                                                                   \n",
       "2009-01-01 00:00:00       0.0      1017     -6          10            316   \n",
       "2009-01-01 06:00:00       0.0      1023     -8          10            315   \n",
       "2009-01-01 12:00:00       0.0      1025     -3          10            304   \n",
       "2009-01-01 18:00:00       0.0      1025     -5          10            294   \n",
       "2009-01-02 00:00:00       0.0      1023     -6          10            260   \n",
       "\n",
       "                     windspeedKmph  location  \n",
       "date_time                                     \n",
       "2009-01-01 00:00:00             27     10007  \n",
       "2009-01-01 06:00:00             24     10007  \n",
       "2009-01-01 12:00:00             23     10007  \n",
       "2009-01-01 18:00:00             13     10007  \n",
       "2009-01-02 00:00:00              8     10007  \n",
       "\n",
       "[5 rows x 24 columns]"
      ]
     },
     "execution_count": 39,
     "metadata": {},
     "output_type": "execute_result"
    }
   ],
   "source": [
    "df2 = pd.read_csv(os.path.join(\"..\", \"..\", \"data\", \"weather\", \"new_york_ny.csv\"), index_col=\"date_time\")\n",
    "\n",
    "print(df2.shape)\n",
    "df2.head()"
   ]
  },
  {
   "cell_type": "code",
   "execution_count": 40,
   "metadata": {},
   "outputs": [
    {
     "data": {
      "text/plain": [
       "Index(['maxtempC', 'mintempC', 'totalSnow_cm', 'sunHour', 'uvIndex',\n",
       "       'moon_illumination', 'moonrise', 'moonset', 'sunrise', 'sunset',\n",
       "       'DewPointC', 'FeelsLikeC', 'HeatIndexC', 'WindChillC', 'WindGustKmph',\n",
       "       'cloudcover', 'humidity', 'precipMM', 'pressure', 'tempC', 'visibility',\n",
       "       'winddirDegree', 'windspeedKmph', 'location'],\n",
       "      dtype='object')"
      ]
     },
     "execution_count": 40,
     "metadata": {},
     "output_type": "execute_result"
    }
   ],
   "source": [
    "df2.columns"
   ]
  },
  {
   "cell_type": "code",
   "execution_count": 41,
   "metadata": {},
   "outputs": [
    {
     "name": "stdout",
     "output_type": "stream",
     "text": [
      "(17056, 5)\n"
     ]
    },
    {
     "data": {
      "text/html": [
       "<div>\n",
       "<style scoped>\n",
       "    .dataframe tbody tr th:only-of-type {\n",
       "        vertical-align: middle;\n",
       "    }\n",
       "\n",
       "    .dataframe tbody tr th {\n",
       "        vertical-align: top;\n",
       "    }\n",
       "\n",
       "    .dataframe thead th {\n",
       "        text-align: right;\n",
       "    }\n",
       "</style>\n",
       "<table border=\"1\" class=\"dataframe\">\n",
       "  <thead>\n",
       "    <tr style=\"text-align: right;\">\n",
       "      <th></th>\n",
       "      <th>tempC</th>\n",
       "      <th>FeelsLikeC</th>\n",
       "      <th>humidity</th>\n",
       "      <th>precipMM</th>\n",
       "      <th>totalSnow_cm</th>\n",
       "    </tr>\n",
       "    <tr>\n",
       "      <th>date_time</th>\n",
       "      <th></th>\n",
       "      <th></th>\n",
       "      <th></th>\n",
       "      <th></th>\n",
       "      <th></th>\n",
       "    </tr>\n",
       "  </thead>\n",
       "  <tbody>\n",
       "    <tr>\n",
       "      <th>2009-01-01 00:00:00</th>\n",
       "      <td>-6</td>\n",
       "      <td>-14</td>\n",
       "      <td>62</td>\n",
       "      <td>0.0</td>\n",
       "      <td>0.0</td>\n",
       "    </tr>\n",
       "    <tr>\n",
       "      <th>2009-01-01 06:00:00</th>\n",
       "      <td>-8</td>\n",
       "      <td>-16</td>\n",
       "      <td>63</td>\n",
       "      <td>0.0</td>\n",
       "      <td>0.0</td>\n",
       "    </tr>\n",
       "    <tr>\n",
       "      <th>2009-01-01 12:00:00</th>\n",
       "      <td>-3</td>\n",
       "      <td>-9</td>\n",
       "      <td>42</td>\n",
       "      <td>0.0</td>\n",
       "      <td>0.0</td>\n",
       "    </tr>\n",
       "    <tr>\n",
       "      <th>2009-01-01 18:00:00</th>\n",
       "      <td>-5</td>\n",
       "      <td>-10</td>\n",
       "      <td>49</td>\n",
       "      <td>0.0</td>\n",
       "      <td>0.0</td>\n",
       "    </tr>\n",
       "    <tr>\n",
       "      <th>2009-01-02 00:00:00</th>\n",
       "      <td>-6</td>\n",
       "      <td>-8</td>\n",
       "      <td>49</td>\n",
       "      <td>0.0</td>\n",
       "      <td>0.1</td>\n",
       "    </tr>\n",
       "  </tbody>\n",
       "</table>\n",
       "</div>"
      ],
      "text/plain": [
       "                     tempC  FeelsLikeC  humidity  precipMM  totalSnow_cm\n",
       "date_time                                                               \n",
       "2009-01-01 00:00:00     -6         -14        62       0.0           0.0\n",
       "2009-01-01 06:00:00     -8         -16        63       0.0           0.0\n",
       "2009-01-01 12:00:00     -3          -9        42       0.0           0.0\n",
       "2009-01-01 18:00:00     -5         -10        49       0.0           0.0\n",
       "2009-01-02 00:00:00     -6          -8        49       0.0           0.1"
      ]
     },
     "execution_count": 41,
     "metadata": {},
     "output_type": "execute_result"
    }
   ],
   "source": [
    "# Clearing out cluttering columns\n",
    "\n",
    "df2 = df2[[\"tempC\", \"FeelsLikeC\", \"humidity\", \"precipMM\", \"totalSnow_cm\"]]\n",
    "\n",
    "print(df2.shape)\n",
    "df2.head()"
   ]
  },
  {
   "cell_type": "code",
   "execution_count": 42,
   "metadata": {},
   "outputs": [
    {
     "data": {
      "text/plain": [
       "Index(['2009-01-01 00:00:00', '2009-01-01 06:00:00', '2009-01-01 12:00:00',\n",
       "       '2009-01-01 18:00:00', '2009-01-02 00:00:00', '2009-01-02 06:00:00',\n",
       "       '2009-01-02 12:00:00', '2009-01-02 18:00:00', '2009-01-03 00:00:00',\n",
       "       '2009-01-03 06:00:00',\n",
       "       ...\n",
       "       '2020-09-01 12:00:00', '2020-09-01 18:00:00', '2020-09-02 00:00:00',\n",
       "       '2020-09-02 06:00:00', '2020-09-02 12:00:00', '2020-09-02 18:00:00',\n",
       "       '2020-09-03 00:00:00', '2020-09-03 06:00:00', '2020-09-03 12:00:00',\n",
       "       '2020-09-03 18:00:00'],\n",
       "      dtype='object', name='date_time', length=17056)"
      ]
     },
     "execution_count": 42,
     "metadata": {},
     "output_type": "execute_result"
    }
   ],
   "source": [
    "# Checking date_time index\n",
    "\n",
    "df2.index"
   ]
  },
  {
   "cell_type": "code",
   "execution_count": 43,
   "metadata": {},
   "outputs": [
    {
     "name": "stdout",
     "output_type": "stream",
     "text": [
      "<class 'str'>\n"
     ]
    },
    {
     "data": {
      "text/plain": [
       "'2009-01-01 00:00:00'"
      ]
     },
     "execution_count": 43,
     "metadata": {},
     "output_type": "execute_result"
    }
   ],
   "source": [
    "print(type(df2.index[0]))\n",
    "df2.index[0]"
   ]
  },
  {
   "cell_type": "code",
   "execution_count": 44,
   "metadata": {},
   "outputs": [
    {
     "data": {
      "text/plain": [
       "DatetimeIndex(['2009-01-01 00:00:00', '2009-01-01 06:00:00',\n",
       "               '2009-01-01 12:00:00', '2009-01-01 18:00:00',\n",
       "               '2009-01-02 00:00:00', '2009-01-02 06:00:00',\n",
       "               '2009-01-02 12:00:00', '2009-01-02 18:00:00',\n",
       "               '2009-01-03 00:00:00', '2009-01-03 06:00:00',\n",
       "               ...\n",
       "               '2020-09-01 12:00:00', '2020-09-01 18:00:00',\n",
       "               '2020-09-02 00:00:00', '2020-09-02 06:00:00',\n",
       "               '2020-09-02 12:00:00', '2020-09-02 18:00:00',\n",
       "               '2020-09-03 00:00:00', '2020-09-03 06:00:00',\n",
       "               '2020-09-03 12:00:00', '2020-09-03 18:00:00'],\n",
       "              dtype='datetime64[ns]', name='date_time', length=17056, freq=None)"
      ]
     },
     "execution_count": 44,
     "metadata": {},
     "output_type": "execute_result"
    }
   ],
   "source": [
    "# Converting datetime index from string object to datetime\n",
    "\n",
    "df2.index = pd.to_datetime(df2.index)\n",
    "df2.index"
   ]
  },
  {
   "cell_type": "markdown",
   "metadata": {},
   "source": [
    "**Note here** that `freq=None`.\n",
    "\n",
    "Given that the data have been pulled from the API with six hours between each datapoint, the data will need to be resampled in order to assign an appropriate frequency. This `freq` attribute on the `DatetimeIndex` class is essential for predictive modeling to be performed on the data.\n",
    "\n",
    "`\"MS\"` as shown below indicates the data will be resample the data by the start of each month. The `.mean()` method indicates that the average of each monthly period is what will populate each column."
   ]
  },
  {
   "cell_type": "code",
   "execution_count": 45,
   "metadata": {},
   "outputs": [
    {
     "name": "stdout",
     "output_type": "stream",
     "text": [
      "(141, 5)\n"
     ]
    },
    {
     "data": {
      "text/html": [
       "<div>\n",
       "<style scoped>\n",
       "    .dataframe tbody tr th:only-of-type {\n",
       "        vertical-align: middle;\n",
       "    }\n",
       "\n",
       "    .dataframe tbody tr th {\n",
       "        vertical-align: top;\n",
       "    }\n",
       "\n",
       "    .dataframe thead th {\n",
       "        text-align: right;\n",
       "    }\n",
       "</style>\n",
       "<table border=\"1\" class=\"dataframe\">\n",
       "  <thead>\n",
       "    <tr style=\"text-align: right;\">\n",
       "      <th></th>\n",
       "      <th>tempC</th>\n",
       "      <th>FeelsLikeC</th>\n",
       "      <th>humidity</th>\n",
       "      <th>precipMM</th>\n",
       "      <th>totalSnow_cm</th>\n",
       "    </tr>\n",
       "    <tr>\n",
       "      <th>date_time</th>\n",
       "      <th></th>\n",
       "      <th></th>\n",
       "      <th></th>\n",
       "      <th></th>\n",
       "      <th></th>\n",
       "    </tr>\n",
       "  </thead>\n",
       "  <tbody>\n",
       "    <tr>\n",
       "      <th>2009-01-01</th>\n",
       "      <td>-2.435484</td>\n",
       "      <td>-6.233871</td>\n",
       "      <td>72.959677</td>\n",
       "      <td>0.000000</td>\n",
       "      <td>0.016129</td>\n",
       "    </tr>\n",
       "    <tr>\n",
       "      <th>2009-02-01</th>\n",
       "      <td>1.267857</td>\n",
       "      <td>-1.848214</td>\n",
       "      <td>73.214286</td>\n",
       "      <td>0.000000</td>\n",
       "      <td>0.021429</td>\n",
       "    </tr>\n",
       "    <tr>\n",
       "      <th>2009-03-01</th>\n",
       "      <td>4.048387</td>\n",
       "      <td>2.145161</td>\n",
       "      <td>80.411290</td>\n",
       "      <td>0.000000</td>\n",
       "      <td>0.003226</td>\n",
       "    </tr>\n",
       "    <tr>\n",
       "      <th>2009-04-01</th>\n",
       "      <td>10.250000</td>\n",
       "      <td>9.525000</td>\n",
       "      <td>78.075000</td>\n",
       "      <td>0.005833</td>\n",
       "      <td>0.000000</td>\n",
       "    </tr>\n",
       "    <tr>\n",
       "      <th>2009-05-01</th>\n",
       "      <td>15.298387</td>\n",
       "      <td>16.008065</td>\n",
       "      <td>82.451613</td>\n",
       "      <td>0.000000</td>\n",
       "      <td>0.000000</td>\n",
       "    </tr>\n",
       "  </tbody>\n",
       "</table>\n",
       "</div>"
      ],
      "text/plain": [
       "                tempC  FeelsLikeC   humidity  precipMM  totalSnow_cm\n",
       "date_time                                                           \n",
       "2009-01-01  -2.435484   -6.233871  72.959677  0.000000      0.016129\n",
       "2009-02-01   1.267857   -1.848214  73.214286  0.000000      0.021429\n",
       "2009-03-01   4.048387    2.145161  80.411290  0.000000      0.003226\n",
       "2009-04-01  10.250000    9.525000  78.075000  0.005833      0.000000\n",
       "2009-05-01  15.298387   16.008065  82.451613  0.000000      0.000000"
      ]
     },
     "execution_count": 45,
     "metadata": {},
     "output_type": "execute_result"
    }
   ],
   "source": [
    "df2 = df2.resample(\"MS\").mean()\n",
    "\n",
    "print(df2.shape)\n",
    "df2.head()"
   ]
  },
  {
   "cell_type": "markdown",
   "metadata": {},
   "source": [
    "Notice that `freq=\"MS\"`.\n",
    "\n",
    "In formal jargon, this frequency attribute is reffered to as a DateOffset Object.\n",
    "\n",
    "For more information on this as well as resampling, consult the [Pandas Time series docs](https://pandas.pydata.org/pandas-docs/stable/user_guide/timeseries.html#dateoffset-objects)."
   ]
  },
  {
   "cell_type": "code",
   "execution_count": 46,
   "metadata": {},
   "outputs": [
    {
     "data": {
      "text/plain": [
       "DatetimeIndex(['2009-01-01', '2009-02-01', '2009-03-01', '2009-04-01',\n",
       "               '2009-05-01', '2009-06-01', '2009-07-01', '2009-08-01',\n",
       "               '2009-09-01', '2009-10-01',\n",
       "               ...\n",
       "               '2019-12-01', '2020-01-01', '2020-02-01', '2020-03-01',\n",
       "               '2020-04-01', '2020-05-01', '2020-06-01', '2020-07-01',\n",
       "               '2020-08-01', '2020-09-01'],\n",
       "              dtype='datetime64[ns]', name='date_time', length=141, freq='MS')"
      ]
     },
     "execution_count": 46,
     "metadata": {},
     "output_type": "execute_result"
    }
   ],
   "source": [
    "df2.index"
   ]
  },
  {
   "cell_type": "markdown",
   "metadata": {},
   "source": [
    "### Predictions - Airline Passengers Example\n",
    "\n",
    "#### Time Series Predictions\n",
    "\n",
    "Unlike the predictive modeling taught in Unit 2 of Lambda School's data science program, the target in Time Series Predictions is not a separate, designated target column, but rather a single variable projected forward in time which is dependent not only on the independent time variable, but on its own historic values.\n",
    "\n",
    "The **Airline Predictions** example shown below illustrates this."
   ]
  },
  {
   "cell_type": "code",
   "execution_count": 48,
   "metadata": {},
   "outputs": [
    {
     "name": "stdout",
     "output_type": "stream",
     "text": [
      "(144, 1)\n"
     ]
    },
    {
     "data": {
      "text/html": [
       "<div>\n",
       "<style scoped>\n",
       "    .dataframe tbody tr th:only-of-type {\n",
       "        vertical-align: middle;\n",
       "    }\n",
       "\n",
       "    .dataframe tbody tr th {\n",
       "        vertical-align: top;\n",
       "    }\n",
       "\n",
       "    .dataframe thead th {\n",
       "        text-align: right;\n",
       "    }\n",
       "</style>\n",
       "<table border=\"1\" class=\"dataframe\">\n",
       "  <thead>\n",
       "    <tr style=\"text-align: right;\">\n",
       "      <th></th>\n",
       "      <th>Thousands of Passengers</th>\n",
       "    </tr>\n",
       "    <tr>\n",
       "      <th>Month</th>\n",
       "      <th></th>\n",
       "    </tr>\n",
       "  </thead>\n",
       "  <tbody>\n",
       "    <tr>\n",
       "      <th>1949-01-01</th>\n",
       "      <td>112</td>\n",
       "    </tr>\n",
       "    <tr>\n",
       "      <th>1949-02-01</th>\n",
       "      <td>118</td>\n",
       "    </tr>\n",
       "    <tr>\n",
       "      <th>1949-03-01</th>\n",
       "      <td>132</td>\n",
       "    </tr>\n",
       "    <tr>\n",
       "      <th>1949-04-01</th>\n",
       "      <td>129</td>\n",
       "    </tr>\n",
       "    <tr>\n",
       "      <th>1949-05-01</th>\n",
       "      <td>121</td>\n",
       "    </tr>\n",
       "  </tbody>\n",
       "</table>\n",
       "</div>"
      ],
      "text/plain": [
       "            Thousands of Passengers\n",
       "Month                              \n",
       "1949-01-01                      112\n",
       "1949-02-01                      118\n",
       "1949-03-01                      132\n",
       "1949-04-01                      129\n",
       "1949-05-01                      121"
      ]
     },
     "execution_count": 48,
     "metadata": {},
     "output_type": "execute_result"
    }
   ],
   "source": [
    "df3 = pd.read_csv(os.path.join(\"..\", \"..\", \"data\", \"airline_passengers.csv\"), index_col=\"Month\")\n",
    "df3.index = pd.to_datetime(df3.index)\n",
    "df3.index.freq = \"MS\"\n",
    "\n",
    "print(df3.shape)\n",
    "df3.head()"
   ]
  },
  {
   "cell_type": "code",
   "execution_count": 49,
   "metadata": {},
   "outputs": [
    {
     "data": {
      "text/plain": [
       "DatetimeIndex(['1949-01-01', '1949-02-01', '1949-03-01', '1949-04-01',\n",
       "               '1949-05-01', '1949-06-01', '1949-07-01', '1949-08-01',\n",
       "               '1949-09-01', '1949-10-01',\n",
       "               ...\n",
       "               '1960-03-01', '1960-04-01', '1960-05-01', '1960-06-01',\n",
       "               '1960-07-01', '1960-08-01', '1960-09-01', '1960-10-01',\n",
       "               '1960-11-01', '1960-12-01'],\n",
       "              dtype='datetime64[ns]', name='Month', length=144, freq='MS')"
      ]
     },
     "execution_count": 49,
     "metadata": {},
     "output_type": "execute_result"
    }
   ],
   "source": [
    "df3.index"
   ]
  },
  {
   "cell_type": "code",
   "execution_count": 50,
   "metadata": {},
   "outputs": [
    {
     "data": {
      "image/png": "[encoded data removed]",
      "text/plain": [
       "<Figure size 720x504 with 1 Axes>"
      ]
     },
     "metadata": {
      "needs_background": "light"
     },
     "output_type": "display_data"
    }
   ],
   "source": [
    "df3.plot(figsize=(10, 7));"
   ]
  },
  {
   "cell_type": "code",
   "execution_count": 51,
   "metadata": {},
   "outputs": [],
   "source": [
    "from statsmodels.tsa.holtwinters import ExponentialSmoothing\n",
    "import warnings\n",
    "\n",
    "warnings.filterwarnings(\n",
    "    \"ignore\",\n",
    "    message=\"After 0.13 initialization must be handled at model creation\"\n",
    ")\n",
    "\n",
    "preds = ExponentialSmoothing(\n",
    "    df3[\"Thousands of Passengers\"],\n",
    "    trend=\"add\",\n",
    "    seasonal=\"add\",\n",
    "    seasonal_periods=12\n",
    ").fit().forecast(24)"
   ]
  },
  {
   "cell_type": "markdown",
   "metadata": {},
   "source": [
    "In running this program, one may get the following future error.\n",
    "\n",
    "``\n",
    "/home/user/.local/lib/python3.8/site-packages/statsmodels/tsa/holtwinters/model.py:427: FutureWarning: After 0.13 initialization must be handled at model creation\n",
    "  warnings.warn(\n",
    "``\n",
    "\n",
    "Note that it is important for any of the routes contained herein that one install the versions of all libraries, especially the *statsmodels* library, stated in the `requirements.txt` file contained in the root directory of this repository."
   ]
  },
  {
   "cell_type": "code",
   "execution_count": 52,
   "metadata": {},
   "outputs": [
    {
     "data": {
      "image/png": "[encoded data removed]",
      "text/plain": [
       "<Figure size 720x504 with 1 Axes>"
      ]
     },
     "metadata": {
      "needs_background": "light"
     },
     "output_type": "display_data"
    }
   ],
   "source": [
    "df3.plot(figsize=(10, 7))\n",
    "preds.plot();"
   ]
  },
  {
   "cell_type": "code",
   "execution_count": null,
   "metadata": {},
   "outputs": [],
   "source": []
  }
 ],
 "metadata": {
  "kernelspec": {
   "display_name": "citrics",
   "language": "python",
   "name": "citrics"
  },
  "language_info": {
   "codemirror_mode": {
    "name": "ipython",
    "version": 3
   },
   "file_extension": ".py",
   "mimetype": "text/x-python",
   "name": "python",
   "nbconvert_exporter": "python",
   "pygments_lexer": "ipython3",
   "version": "3.8.3"
  }
 },
 "nbformat": 4,
 "nbformat_minor": 4
}
