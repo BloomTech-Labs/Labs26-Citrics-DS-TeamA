{
 "cells": [
  {
   "cell_type": "code",
   "execution_count": 37,
   "metadata": {},
   "outputs": [
    {
     "name": "stdout",
     "output_type": "stream",
     "text": [
      "(35520, 8)\n"
     ]
    },
    {
     "data": {
      "text/html": [
       "<div>\n",
       "<style scoped>\n",
       "    .dataframe tbody tr th:only-of-type {\n",
       "        vertical-align: middle;\n",
       "    }\n",
       "\n",
       "    .dataframe tbody tr th {\n",
       "        vertical-align: top;\n",
       "    }\n",
       "\n",
       "    .dataframe thead th {\n",
       "        text-align: right;\n",
       "    }\n",
       "</style>\n",
       "<table border=\"1\" class=\"dataframe\">\n",
       "  <thead>\n",
       "    <tr style=\"text-align: right;\">\n",
       "      <th></th>\n",
       "      <th>month</th>\n",
       "      <th>city</th>\n",
       "      <th>state</th>\n",
       "      <th>Studio</th>\n",
       "      <th>1br</th>\n",
       "      <th>2br</th>\n",
       "      <th>3br</th>\n",
       "      <th>4br</th>\n",
       "    </tr>\n",
       "  </thead>\n",
       "  <tbody>\n",
       "    <tr>\n",
       "      <th>0</th>\n",
       "      <td>2014-01-01</td>\n",
       "      <td>King of Prussia</td>\n",
       "      <td>PA</td>\n",
       "      <td>888.0</td>\n",
       "      <td>1054.0</td>\n",
       "      <td>1273.0</td>\n",
       "      <td>1592.0</td>\n",
       "      <td>1772.0</td>\n",
       "    </tr>\n",
       "    <tr>\n",
       "      <th>1</th>\n",
       "      <td>2014-02-01</td>\n",
       "      <td>King of Prussia</td>\n",
       "      <td>PA</td>\n",
       "      <td>891.0</td>\n",
       "      <td>1058.0</td>\n",
       "      <td>1277.0</td>\n",
       "      <td>1597.0</td>\n",
       "      <td>1778.0</td>\n",
       "    </tr>\n",
       "    <tr>\n",
       "      <th>2</th>\n",
       "      <td>2014-03-01</td>\n",
       "      <td>King of Prussia</td>\n",
       "      <td>PA</td>\n",
       "      <td>897.0</td>\n",
       "      <td>1065.0</td>\n",
       "      <td>1285.0</td>\n",
       "      <td>1608.0</td>\n",
       "      <td>1789.0</td>\n",
       "    </tr>\n",
       "    <tr>\n",
       "      <th>3</th>\n",
       "      <td>2014-04-01</td>\n",
       "      <td>King of Prussia</td>\n",
       "      <td>PA</td>\n",
       "      <td>897.0</td>\n",
       "      <td>1065.0</td>\n",
       "      <td>1286.0</td>\n",
       "      <td>1608.0</td>\n",
       "      <td>1790.0</td>\n",
       "    </tr>\n",
       "    <tr>\n",
       "      <th>4</th>\n",
       "      <td>2014-05-01</td>\n",
       "      <td>King of Prussia</td>\n",
       "      <td>PA</td>\n",
       "      <td>902.0</td>\n",
       "      <td>1070.0</td>\n",
       "      <td>1292.0</td>\n",
       "      <td>1616.0</td>\n",
       "      <td>1799.0</td>\n",
       "    </tr>\n",
       "  </tbody>\n",
       "</table>\n",
       "</div>"
      ],
      "text/plain": [
       "        month             city state  Studio     1br     2br     3br     4br\n",
       "0  2014-01-01  King of Prussia    PA   888.0  1054.0  1273.0  1592.0  1772.0\n",
       "1  2014-02-01  King of Prussia    PA   891.0  1058.0  1277.0  1597.0  1778.0\n",
       "2  2014-03-01  King of Prussia    PA   897.0  1065.0  1285.0  1608.0  1789.0\n",
       "3  2014-04-01  King of Prussia    PA   897.0  1065.0  1286.0  1608.0  1790.0\n",
       "4  2014-05-01  King of Prussia    PA   902.0  1070.0  1292.0  1616.0  1799.0"
      ]
     },
     "execution_count": 37,
     "metadata": {},
     "output_type": "execute_result"
    }
   ],
   "source": [
    "import pandas as pd\n",
    "\n",
    "df = pd.read_csv(\"../data/rental/rental.csv\")\n",
    "\n",
    "print(df.shape)\n",
    "df.head()"
   ]
  },
  {
   "cell_type": "code",
   "execution_count": 2,
   "metadata": {},
   "outputs": [
    {
     "data": {
      "text/plain": [
       "month      object\n",
       "city       object\n",
       "state      object\n",
       "Studio    float64\n",
       "1br       float64\n",
       "2br       float64\n",
       "3br       float64\n",
       "4br       float64\n",
       "dtype: object"
      ]
     },
     "execution_count": 2,
     "metadata": {},
     "output_type": "execute_result"
    }
   ],
   "source": [
    "df.dtypes"
   ]
  },
  {
   "cell_type": "code",
   "execution_count": 38,
   "metadata": {},
   "outputs": [
    {
     "data": {
      "text/plain": [
       "DatetimeIndex(['2014-01-01', '2014-02-01', '2014-03-01', '2014-04-01',\n",
       "               '2014-05-01', '2014-06-01', '2014-07-01', '2014-08-01',\n",
       "               '2014-09-01', '2014-10-01',\n",
       "               ...\n",
       "               '2019-11-01', '2019-12-01', '2020-01-01', '2020-02-01',\n",
       "               '2020-03-01', '2020-04-01', '2020-05-01', '2020-06-01',\n",
       "               '2020-07-01', '2020-08-01'],\n",
       "              dtype='datetime64[ns]', name='month', length=35520, freq=None)"
      ]
     },
     "execution_count": 38,
     "metadata": {},
     "output_type": "execute_result"
    }
   ],
   "source": [
    "df.set_index(\"month\", inplace=True)\n",
    "df.index = pd.to_datetime(df.index)\n",
    "df.index"
   ]
  },
  {
   "cell_type": "code",
   "execution_count": 4,
   "metadata": {},
   "outputs": [
    {
     "data": {
      "text/plain": [
       "(2014, 1, 1)"
      ]
     },
     "execution_count": 4,
     "metadata": {},
     "output_type": "execute_result"
    }
   ],
   "source": [
    "df.index[0].year, df.index[0].month, df.index[0].day "
   ]
  },
  {
   "cell_type": "code",
   "execution_count": 5,
   "metadata": {},
   "outputs": [
    {
     "name": "stdout",
     "output_type": "stream",
     "text": [
      "(35520, 7)\n"
     ]
    },
    {
     "data": {
      "text/html": [
       "<div>\n",
       "<style scoped>\n",
       "    .dataframe tbody tr th:only-of-type {\n",
       "        vertical-align: middle;\n",
       "    }\n",
       "\n",
       "    .dataframe tbody tr th {\n",
       "        vertical-align: top;\n",
       "    }\n",
       "\n",
       "    .dataframe thead th {\n",
       "        text-align: right;\n",
       "    }\n",
       "</style>\n",
       "<table border=\"1\" class=\"dataframe\">\n",
       "  <thead>\n",
       "    <tr style=\"text-align: right;\">\n",
       "      <th></th>\n",
       "      <th>city</th>\n",
       "      <th>state</th>\n",
       "      <th>Studio</th>\n",
       "      <th>1br</th>\n",
       "      <th>2br</th>\n",
       "      <th>3br</th>\n",
       "      <th>4br</th>\n",
       "    </tr>\n",
       "    <tr>\n",
       "      <th>month</th>\n",
       "      <th></th>\n",
       "      <th></th>\n",
       "      <th></th>\n",
       "      <th></th>\n",
       "      <th></th>\n",
       "      <th></th>\n",
       "      <th></th>\n",
       "    </tr>\n",
       "  </thead>\n",
       "  <tbody>\n",
       "    <tr>\n",
       "      <th>2014-01-01</th>\n",
       "      <td>King of Prussia</td>\n",
       "      <td>PA</td>\n",
       "      <td>888.0</td>\n",
       "      <td>1054.0</td>\n",
       "      <td>1273.0</td>\n",
       "      <td>1592.0</td>\n",
       "      <td>1772.0</td>\n",
       "    </tr>\n",
       "    <tr>\n",
       "      <th>2014-02-01</th>\n",
       "      <td>King of Prussia</td>\n",
       "      <td>PA</td>\n",
       "      <td>891.0</td>\n",
       "      <td>1058.0</td>\n",
       "      <td>1277.0</td>\n",
       "      <td>1597.0</td>\n",
       "      <td>1778.0</td>\n",
       "    </tr>\n",
       "    <tr>\n",
       "      <th>2014-03-01</th>\n",
       "      <td>King of Prussia</td>\n",
       "      <td>PA</td>\n",
       "      <td>897.0</td>\n",
       "      <td>1065.0</td>\n",
       "      <td>1285.0</td>\n",
       "      <td>1608.0</td>\n",
       "      <td>1789.0</td>\n",
       "    </tr>\n",
       "    <tr>\n",
       "      <th>2014-04-01</th>\n",
       "      <td>King of Prussia</td>\n",
       "      <td>PA</td>\n",
       "      <td>897.0</td>\n",
       "      <td>1065.0</td>\n",
       "      <td>1286.0</td>\n",
       "      <td>1608.0</td>\n",
       "      <td>1790.0</td>\n",
       "    </tr>\n",
       "    <tr>\n",
       "      <th>2014-05-01</th>\n",
       "      <td>King of Prussia</td>\n",
       "      <td>PA</td>\n",
       "      <td>902.0</td>\n",
       "      <td>1070.0</td>\n",
       "      <td>1292.0</td>\n",
       "      <td>1616.0</td>\n",
       "      <td>1799.0</td>\n",
       "    </tr>\n",
       "  </tbody>\n",
       "</table>\n",
       "</div>"
      ],
      "text/plain": [
       "                       city state  Studio     1br     2br     3br     4br\n",
       "month                                                                    \n",
       "2014-01-01  King of Prussia    PA   888.0  1054.0  1273.0  1592.0  1772.0\n",
       "2014-02-01  King of Prussia    PA   891.0  1058.0  1277.0  1597.0  1778.0\n",
       "2014-03-01  King of Prussia    PA   897.0  1065.0  1285.0  1608.0  1789.0\n",
       "2014-04-01  King of Prussia    PA   897.0  1065.0  1286.0  1608.0  1790.0\n",
       "2014-05-01  King of Prussia    PA   902.0  1070.0  1292.0  1616.0  1799.0"
      ]
     },
     "execution_count": 5,
     "metadata": {},
     "output_type": "execute_result"
    }
   ],
   "source": [
    "print(df.shape)\n",
    "df.head()"
   ]
  },
  {
   "cell_type": "code",
   "execution_count": 84,
   "metadata": {},
   "outputs": [
    {
     "name": "stdout",
     "output_type": "stream",
     "text": [
      "(80, 7)\n"
     ]
    },
    {
     "data": {
      "text/html": [
       "<div>\n",
       "<style scoped>\n",
       "    .dataframe tbody tr th:only-of-type {\n",
       "        vertical-align: middle;\n",
       "    }\n",
       "\n",
       "    .dataframe tbody tr th {\n",
       "        vertical-align: top;\n",
       "    }\n",
       "\n",
       "    .dataframe thead th {\n",
       "        text-align: right;\n",
       "    }\n",
       "</style>\n",
       "<table border=\"1\" class=\"dataframe\">\n",
       "  <thead>\n",
       "    <tr style=\"text-align: right;\">\n",
       "      <th></th>\n",
       "      <th>city</th>\n",
       "      <th>state</th>\n",
       "      <th>Studio</th>\n",
       "      <th>1br</th>\n",
       "      <th>2br</th>\n",
       "      <th>3br</th>\n",
       "      <th>4br</th>\n",
       "    </tr>\n",
       "    <tr>\n",
       "      <th>month</th>\n",
       "      <th></th>\n",
       "      <th></th>\n",
       "      <th></th>\n",
       "      <th></th>\n",
       "      <th></th>\n",
       "      <th></th>\n",
       "      <th></th>\n",
       "    </tr>\n",
       "  </thead>\n",
       "  <tbody>\n",
       "    <tr>\n",
       "      <th>2014-01-01</th>\n",
       "      <td>King of Prussia</td>\n",
       "      <td>PA</td>\n",
       "      <td>888.0</td>\n",
       "      <td>1054.0</td>\n",
       "      <td>1273.0</td>\n",
       "      <td>1592.0</td>\n",
       "      <td>1772.0</td>\n",
       "    </tr>\n",
       "    <tr>\n",
       "      <th>2014-02-01</th>\n",
       "      <td>King of Prussia</td>\n",
       "      <td>PA</td>\n",
       "      <td>891.0</td>\n",
       "      <td>1058.0</td>\n",
       "      <td>1277.0</td>\n",
       "      <td>1597.0</td>\n",
       "      <td>1778.0</td>\n",
       "    </tr>\n",
       "    <tr>\n",
       "      <th>2014-03-01</th>\n",
       "      <td>King of Prussia</td>\n",
       "      <td>PA</td>\n",
       "      <td>897.0</td>\n",
       "      <td>1065.0</td>\n",
       "      <td>1285.0</td>\n",
       "      <td>1608.0</td>\n",
       "      <td>1789.0</td>\n",
       "    </tr>\n",
       "    <tr>\n",
       "      <th>2014-04-01</th>\n",
       "      <td>King of Prussia</td>\n",
       "      <td>PA</td>\n",
       "      <td>897.0</td>\n",
       "      <td>1065.0</td>\n",
       "      <td>1286.0</td>\n",
       "      <td>1608.0</td>\n",
       "      <td>1790.0</td>\n",
       "    </tr>\n",
       "    <tr>\n",
       "      <th>2014-05-01</th>\n",
       "      <td>King of Prussia</td>\n",
       "      <td>PA</td>\n",
       "      <td>902.0</td>\n",
       "      <td>1070.0</td>\n",
       "      <td>1292.0</td>\n",
       "      <td>1616.0</td>\n",
       "      <td>1799.0</td>\n",
       "    </tr>\n",
       "  </tbody>\n",
       "</table>\n",
       "</div>"
      ],
      "text/plain": [
       "                       city state  Studio     1br     2br     3br     4br\n",
       "month                                                                    \n",
       "2014-01-01  King of Prussia    PA   888.0  1054.0  1273.0  1592.0  1772.0\n",
       "2014-02-01  King of Prussia    PA   891.0  1058.0  1277.0  1597.0  1778.0\n",
       "2014-03-01  King of Prussia    PA   897.0  1065.0  1285.0  1608.0  1789.0\n",
       "2014-04-01  King of Prussia    PA   897.0  1065.0  1286.0  1608.0  1790.0\n",
       "2014-05-01  King of Prussia    PA   902.0  1070.0  1292.0  1616.0  1799.0"
      ]
     },
     "execution_count": 84,
     "metadata": {},
     "output_type": "execute_result"
    }
   ],
   "source": [
    "# Creating subset to develop function with\n",
    "\n",
    "prussia = df[df.city == \"King of Prussia\"]\n",
    "prussia = prussia[prussia.state == \"PA\"]\n",
    "\n",
    "print(prussia.shape)\n",
    "prussia.head()"
   ]
  },
  {
   "cell_type": "code",
   "execution_count": 118,
   "metadata": {},
   "outputs": [
    {
     "data": {
      "text/plain": [
       "(68, 12)"
      ]
     },
     "execution_count": 118,
     "metadata": {},
     "output_type": "execute_result"
    }
   ],
   "source": [
    "train = prussia[\"2014-01-01\":\"2019-08-01\"]\n",
    "test = prussia[\"2019-09-01\":]\n",
    "\n",
    "len(train.index), len(test.index)"
   ]
  },
  {
   "cell_type": "code",
   "execution_count": 119,
   "metadata": {},
   "outputs": [
    {
     "data": {
      "image/png": "[encoded data removed]",
      "text/plain": [
       "<Figure size 864x432 with 1 Axes>"
      ]
     },
     "metadata": {
      "needs_background": "light"
     },
     "output_type": "display_data"
    }
   ],
   "source": [
    "%matplotlib inline\n",
    "\n",
    "subset[[\"Studio\", \"1br\", \"2br\", \"3br\", \"4br\"]].plot(figsize=(12, 6));"
   ]
  },
  {
   "cell_type": "code",
   "execution_count": 120,
   "metadata": {},
   "outputs": [
    {
     "data": {
      "text/html": [
       "<div>\n",
       "<style scoped>\n",
       "    .dataframe tbody tr th:only-of-type {\n",
       "        vertical-align: middle;\n",
       "    }\n",
       "\n",
       "    .dataframe tbody tr th {\n",
       "        vertical-align: top;\n",
       "    }\n",
       "\n",
       "    .dataframe thead th {\n",
       "        text-align: right;\n",
       "    }\n",
       "</style>\n",
       "<table border=\"1\" class=\"dataframe\">\n",
       "  <thead>\n",
       "    <tr style=\"text-align: right;\">\n",
       "      <th></th>\n",
       "      <th>city</th>\n",
       "      <th>state</th>\n",
       "      <th>Studio</th>\n",
       "      <th>1br</th>\n",
       "      <th>2br</th>\n",
       "      <th>3br</th>\n",
       "      <th>4br</th>\n",
       "    </tr>\n",
       "    <tr>\n",
       "      <th>month</th>\n",
       "      <th></th>\n",
       "      <th></th>\n",
       "      <th></th>\n",
       "      <th></th>\n",
       "      <th></th>\n",
       "      <th></th>\n",
       "      <th></th>\n",
       "    </tr>\n",
       "  </thead>\n",
       "  <tbody>\n",
       "    <tr>\n",
       "      <th>2019-04-01</th>\n",
       "      <td>King of Prussia</td>\n",
       "      <td>PA</td>\n",
       "      <td>1072.0</td>\n",
       "      <td>1272.0</td>\n",
       "      <td>1536.0</td>\n",
       "      <td>1922.0</td>\n",
       "      <td>2139.0</td>\n",
       "    </tr>\n",
       "    <tr>\n",
       "      <th>2019-05-01</th>\n",
       "      <td>King of Prussia</td>\n",
       "      <td>PA</td>\n",
       "      <td>1059.0</td>\n",
       "      <td>1258.0</td>\n",
       "      <td>1518.0</td>\n",
       "      <td>1900.0</td>\n",
       "      <td>2114.0</td>\n",
       "    </tr>\n",
       "    <tr>\n",
       "      <th>2019-06-01</th>\n",
       "      <td>King of Prussia</td>\n",
       "      <td>PA</td>\n",
       "      <td>1053.0</td>\n",
       "      <td>1249.0</td>\n",
       "      <td>1509.0</td>\n",
       "      <td>1887.0</td>\n",
       "      <td>2100.0</td>\n",
       "    </tr>\n",
       "    <tr>\n",
       "      <th>2019-07-01</th>\n",
       "      <td>King of Prussia</td>\n",
       "      <td>PA</td>\n",
       "      <td>1062.0</td>\n",
       "      <td>1261.0</td>\n",
       "      <td>1522.0</td>\n",
       "      <td>1905.0</td>\n",
       "      <td>2120.0</td>\n",
       "    </tr>\n",
       "    <tr>\n",
       "      <th>2019-08-01</th>\n",
       "      <td>King of Prussia</td>\n",
       "      <td>PA</td>\n",
       "      <td>1072.0</td>\n",
       "      <td>1273.0</td>\n",
       "      <td>1536.0</td>\n",
       "      <td>1922.0</td>\n",
       "      <td>2139.0</td>\n",
       "    </tr>\n",
       "  </tbody>\n",
       "</table>\n",
       "</div>"
      ],
      "text/plain": [
       "                       city state  Studio     1br     2br     3br     4br\n",
       "month                                                                    \n",
       "2019-04-01  King of Prussia    PA  1072.0  1272.0  1536.0  1922.0  2139.0\n",
       "2019-05-01  King of Prussia    PA  1059.0  1258.0  1518.0  1900.0  2114.0\n",
       "2019-06-01  King of Prussia    PA  1053.0  1249.0  1509.0  1887.0  2100.0\n",
       "2019-07-01  King of Prussia    PA  1062.0  1261.0  1522.0  1905.0  2120.0\n",
       "2019-08-01  King of Prussia    PA  1072.0  1273.0  1536.0  1922.0  2139.0"
      ]
     },
     "execution_count": 120,
     "metadata": {},
     "output_type": "execute_result"
    }
   ],
   "source": [
    "train.tail()"
   ]
  },
  {
   "cell_type": "code",
   "execution_count": 121,
   "metadata": {},
   "outputs": [
    {
     "data": {
      "text/html": [
       "<div>\n",
       "<style scoped>\n",
       "    .dataframe tbody tr th:only-of-type {\n",
       "        vertical-align: middle;\n",
       "    }\n",
       "\n",
       "    .dataframe tbody tr th {\n",
       "        vertical-align: top;\n",
       "    }\n",
       "\n",
       "    .dataframe thead th {\n",
       "        text-align: right;\n",
       "    }\n",
       "</style>\n",
       "<table border=\"1\" class=\"dataframe\">\n",
       "  <thead>\n",
       "    <tr style=\"text-align: right;\">\n",
       "      <th></th>\n",
       "      <th>city</th>\n",
       "      <th>state</th>\n",
       "      <th>Studio</th>\n",
       "      <th>1br</th>\n",
       "      <th>2br</th>\n",
       "      <th>3br</th>\n",
       "      <th>4br</th>\n",
       "    </tr>\n",
       "    <tr>\n",
       "      <th>month</th>\n",
       "      <th></th>\n",
       "      <th></th>\n",
       "      <th></th>\n",
       "      <th></th>\n",
       "      <th></th>\n",
       "      <th></th>\n",
       "      <th></th>\n",
       "    </tr>\n",
       "  </thead>\n",
       "  <tbody>\n",
       "    <tr>\n",
       "      <th>2019-09-01</th>\n",
       "      <td>King of Prussia</td>\n",
       "      <td>PA</td>\n",
       "      <td>1081.0</td>\n",
       "      <td>1283.0</td>\n",
       "      <td>1549.0</td>\n",
       "      <td>1938.0</td>\n",
       "      <td>2157.0</td>\n",
       "    </tr>\n",
       "    <tr>\n",
       "      <th>2019-10-01</th>\n",
       "      <td>King of Prussia</td>\n",
       "      <td>PA</td>\n",
       "      <td>1075.0</td>\n",
       "      <td>1275.0</td>\n",
       "      <td>1540.0</td>\n",
       "      <td>1927.0</td>\n",
       "      <td>2144.0</td>\n",
       "    </tr>\n",
       "    <tr>\n",
       "      <th>2019-11-01</th>\n",
       "      <td>King of Prussia</td>\n",
       "      <td>PA</td>\n",
       "      <td>1071.0</td>\n",
       "      <td>1272.0</td>\n",
       "      <td>1536.0</td>\n",
       "      <td>1921.0</td>\n",
       "      <td>2138.0</td>\n",
       "    </tr>\n",
       "    <tr>\n",
       "      <th>2019-12-01</th>\n",
       "      <td>King of Prussia</td>\n",
       "      <td>PA</td>\n",
       "      <td>1062.0</td>\n",
       "      <td>1260.0</td>\n",
       "      <td>1522.0</td>\n",
       "      <td>1904.0</td>\n",
       "      <td>2119.0</td>\n",
       "    </tr>\n",
       "    <tr>\n",
       "      <th>2020-01-01</th>\n",
       "      <td>King of Prussia</td>\n",
       "      <td>PA</td>\n",
       "      <td>1051.0</td>\n",
       "      <td>1248.0</td>\n",
       "      <td>1506.0</td>\n",
       "      <td>1884.0</td>\n",
       "      <td>2097.0</td>\n",
       "    </tr>\n",
       "    <tr>\n",
       "      <th>2020-02-01</th>\n",
       "      <td>King of Prussia</td>\n",
       "      <td>PA</td>\n",
       "      <td>1047.0</td>\n",
       "      <td>1243.0</td>\n",
       "      <td>1501.0</td>\n",
       "      <td>1878.0</td>\n",
       "      <td>2090.0</td>\n",
       "    </tr>\n",
       "    <tr>\n",
       "      <th>2020-03-01</th>\n",
       "      <td>King of Prussia</td>\n",
       "      <td>PA</td>\n",
       "      <td>1049.0</td>\n",
       "      <td>1245.0</td>\n",
       "      <td>1504.0</td>\n",
       "      <td>1881.0</td>\n",
       "      <td>2093.0</td>\n",
       "    </tr>\n",
       "    <tr>\n",
       "      <th>2020-04-01</th>\n",
       "      <td>King of Prussia</td>\n",
       "      <td>PA</td>\n",
       "      <td>1048.0</td>\n",
       "      <td>1244.0</td>\n",
       "      <td>1502.0</td>\n",
       "      <td>1879.0</td>\n",
       "      <td>2091.0</td>\n",
       "    </tr>\n",
       "    <tr>\n",
       "      <th>2020-05-01</th>\n",
       "      <td>King of Prussia</td>\n",
       "      <td>PA</td>\n",
       "      <td>1045.0</td>\n",
       "      <td>1240.0</td>\n",
       "      <td>1497.0</td>\n",
       "      <td>1873.0</td>\n",
       "      <td>2084.0</td>\n",
       "    </tr>\n",
       "    <tr>\n",
       "      <th>2020-06-01</th>\n",
       "      <td>King of Prussia</td>\n",
       "      <td>PA</td>\n",
       "      <td>1036.0</td>\n",
       "      <td>1230.0</td>\n",
       "      <td>1485.0</td>\n",
       "      <td>1858.0</td>\n",
       "      <td>2068.0</td>\n",
       "    </tr>\n",
       "    <tr>\n",
       "      <th>2020-07-01</th>\n",
       "      <td>King of Prussia</td>\n",
       "      <td>PA</td>\n",
       "      <td>1036.0</td>\n",
       "      <td>1230.0</td>\n",
       "      <td>1485.0</td>\n",
       "      <td>1858.0</td>\n",
       "      <td>2068.0</td>\n",
       "    </tr>\n",
       "    <tr>\n",
       "      <th>2020-08-01</th>\n",
       "      <td>King of Prussia</td>\n",
       "      <td>PA</td>\n",
       "      <td>1038.0</td>\n",
       "      <td>1232.0</td>\n",
       "      <td>1488.0</td>\n",
       "      <td>1862.0</td>\n",
       "      <td>2072.0</td>\n",
       "    </tr>\n",
       "  </tbody>\n",
       "</table>\n",
       "</div>"
      ],
      "text/plain": [
       "                       city state  Studio     1br     2br     3br     4br\n",
       "month                                                                    \n",
       "2019-09-01  King of Prussia    PA  1081.0  1283.0  1549.0  1938.0  2157.0\n",
       "2019-10-01  King of Prussia    PA  1075.0  1275.0  1540.0  1927.0  2144.0\n",
       "2019-11-01  King of Prussia    PA  1071.0  1272.0  1536.0  1921.0  2138.0\n",
       "2019-12-01  King of Prussia    PA  1062.0  1260.0  1522.0  1904.0  2119.0\n",
       "2020-01-01  King of Prussia    PA  1051.0  1248.0  1506.0  1884.0  2097.0\n",
       "2020-02-01  King of Prussia    PA  1047.0  1243.0  1501.0  1878.0  2090.0\n",
       "2020-03-01  King of Prussia    PA  1049.0  1245.0  1504.0  1881.0  2093.0\n",
       "2020-04-01  King of Prussia    PA  1048.0  1244.0  1502.0  1879.0  2091.0\n",
       "2020-05-01  King of Prussia    PA  1045.0  1240.0  1497.0  1873.0  2084.0\n",
       "2020-06-01  King of Prussia    PA  1036.0  1230.0  1485.0  1858.0  2068.0\n",
       "2020-07-01  King of Prussia    PA  1036.0  1230.0  1485.0  1858.0  2068.0\n",
       "2020-08-01  King of Prussia    PA  1038.0  1232.0  1488.0  1862.0  2072.0"
      ]
     },
     "execution_count": 121,
     "metadata": {},
     "output_type": "execute_result"
    }
   ],
   "source": [
    "test"
   ]
  },
  {
   "cell_type": "code",
   "execution_count": 127,
   "metadata": {},
   "outputs": [
    {
     "name": "stderr",
     "output_type": "stream",
     "text": [
      "/home/shengjiyang/anaconda3/envs/citrics/lib/python3.8/site-packages/statsmodels/tsa/base/tsa_model.py:524: ValueWarning: No frequency information was provided, so inferred frequency MS will be used.\n",
      "  warnings.warn('No frequency information was'\n",
      "/home/shengjiyang/anaconda3/envs/citrics/lib/python3.8/site-packages/statsmodels/tsa/holtwinters/model.py:427: FutureWarning: After 0.13 initialization must be handled at model creation\n",
      "  warnings.warn(\n"
     ]
    },
    {
     "data": {
      "text/plain": [
       "2019-09-01    1066.063158\n",
       "2019-10-01    1049.964138\n",
       "2019-11-01    1037.903464\n",
       "2019-12-01    1030.672562\n",
       "2020-01-01    1033.678757\n",
       "2020-02-01    1043.848603\n",
       "2020-03-01    1056.549913\n",
       "2020-04-01    1061.281850\n",
       "2020-05-01    1065.366845\n",
       "2020-06-01    1066.826006\n",
       "2020-07-01    1075.309531\n",
       "2020-08-01    1078.325848\n",
       "Freq: MS, dtype: float64"
      ]
     },
     "execution_count": 127,
     "metadata": {},
     "output_type": "execute_result"
    }
   ],
   "source": [
    "from statsmodels.tsa.holtwinters import ExponentialSmoothing\n",
    "\n",
    "model = ExponentialSmoothing(train[\"Studio\"], trend=\"add\", seasonal=\"add\", seasonal_periods=12).fit()\n",
    "predictions = model.forecast(12)\n",
    "\n",
    "predictions"
   ]
  },
  {
   "cell_type": "code",
   "execution_count": 128,
   "metadata": {},
   "outputs": [
    {
     "data": {
      "image/png": "[encoded data removed]",
      "text/plain": [
       "<Figure size 864x432 with 1 Axes>"
      ]
     },
     "metadata": {
      "needs_background": "light"
     },
     "output_type": "display_data"
    }
   ],
   "source": [
    "# subset[\"Studio\"].plot()\n",
    "train[\"Studio\"].plot(legend=True, label=\"TRAIN\", figsize=(12, 6))\n",
    "test[\"Studio\"].plot(legend=True, label=\"TEST\")\n",
    "predictions.plot(legend=True, label=\"Predictions\");"
   ]
  },
  {
   "cell_type": "code",
   "execution_count": 129,
   "metadata": {},
   "outputs": [
    {
     "data": {
      "text/plain": [
       "count      12.000000\n",
       "mean     1053.250000\n",
       "std        15.433877\n",
       "min      1036.000000\n",
       "25%      1043.250000\n",
       "50%      1048.500000\n",
       "75%      1064.250000\n",
       "max      1081.000000\n",
       "Name: Studio, dtype: float64"
      ]
     },
     "execution_count": 129,
     "metadata": {},
     "output_type": "execute_result"
    }
   ],
   "source": [
    "test[\"Studio\"].describe()"
   ]
  },
  {
   "cell_type": "code",
   "execution_count": 130,
   "metadata": {},
   "outputs": [
    {
     "name": "stdout",
     "output_type": "stream",
     "text": [
      "23.04410931762582\n"
     ]
    }
   ],
   "source": [
    "from sklearn.metrics import mean_absolute_error, mean_squared_error\n",
    "\n",
    "print(mean_absolute_error(test[\"Studio\"], predictions), mean_)"
   ]
  },
  {
   "cell_type": "code",
   "execution_count": 124,
   "metadata": {},
   "outputs": [
    {
     "name": "stderr",
     "output_type": "stream",
     "text": [
      "/home/shengjiyang/anaconda3/envs/citrics/lib/python3.8/site-packages/statsmodels/tsa/base/tsa_model.py:524: ValueWarning: No frequency information was provided, so inferred frequency MS will be used.\n",
      "  warnings.warn('No frequency information was'\n",
      "/home/shengjiyang/anaconda3/envs/citrics/lib/python3.8/site-packages/statsmodels/tsa/holtwinters/model.py:427: FutureWarning: After 0.13 initialization must be handled at model creation\n",
      "  warnings.warn(\n"
     ]
    },
    {
     "data": {
      "text/plain": [
       "2020-09-01    1033.431840\n",
       "2020-10-01    1017.808429\n",
       "2020-11-01    1005.782176\n",
       "2020-12-01     996.855852\n",
       "2021-01-01     996.032829\n",
       "2021-02-01    1003.805236\n",
       "2021-03-01    1014.519410\n",
       "2021-04-01    1017.889577\n",
       "2021-05-01    1020.344020\n",
       "2021-06-01    1019.602040\n",
       "2021-07-01    1026.088891\n",
       "2021-08-01    1028.088884\n",
       "Freq: MS, dtype: float64"
      ]
     },
     "execution_count": 124,
     "metadata": {},
     "output_type": "execute_result"
    }
   ],
   "source": [
    "model = ExponentialSmoothing(subset[\"Studio\"], trend=\"add\", seasonal=\"add\", seasonal_periods=12).fit()\n",
    "predictions = model.forecast(12)\n",
    "\n",
    "predictions"
   ]
  },
  {
   "cell_type": "code",
   "execution_count": 125,
   "metadata": {},
   "outputs": [
    {
     "data": {
      "image/png": "[encoded data removed]",
      "text/plain": [
       "<Figure size 864x432 with 1 Axes>"
      ]
     },
     "metadata": {
      "needs_background": "light"
     },
     "output_type": "display_data"
    }
   ],
   "source": [
    "# subset[\"Studio\"].plot()\n",
    "subset[\"Studio\"].plot(legend=True, label=\"TRAIN\", figsize=(12, 6))\n",
    "predictions.plot(legend=True, label=\"Predictions\");"
   ]
  },
  {
   "cell_type": "code",
   "execution_count": null,
   "metadata": {},
   "outputs": [],
   "source": []
  }
 ],
 "metadata": {
  "kernelspec": {
   "display_name": "citrics",
   "language": "python",
   "name": "citrics"
  },
  "language_info": {
   "codemirror_mode": {
    "name": "ipython",
    "version": 3
   },
   "file_extension": ".py",
   "mimetype": "text/x-python",
   "name": "python",
   "nbconvert_exporter": "python",
   "pygments_lexer": "ipython3",
   "version": "3.8.5"
  }
 },
 "nbformat": 4,
 "nbformat_minor": 4
}
