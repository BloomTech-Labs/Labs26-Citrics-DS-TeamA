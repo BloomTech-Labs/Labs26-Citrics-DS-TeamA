{
 "cells": [
  {
   "cell_type": "code",
   "execution_count": 56,
   "metadata": {},
   "outputs": [
    {
     "name": "stdout",
     "output_type": "stream",
     "text": [
      "3.8.3 (default, Jul  2 2020, 16:21:59) \n",
      "[GCC 7.3.0]\n",
      "\n",
      "Pandas: version 1.1.1\n"
     ]
    }
   ],
   "source": [
    "import sys\n",
    "\n",
    "print(sys.version)\n",
    "print(\"\")\n",
    "print(f\"Pandas: version {pd.__version__}\")"
   ]
  },
  {
   "cell_type": "code",
   "execution_count": 2,
   "metadata": {},
   "outputs": [
    {
     "name": "stdout",
     "output_type": "stream",
     "text": [
      "(17056, 25)\n"
     ]
    },
    {
     "data": {
      "text/html": [
       "<div>\n",
       "<style scoped>\n",
       "    .dataframe tbody tr th:only-of-type {\n",
       "        vertical-align: middle;\n",
       "    }\n",
       "\n",
       "    .dataframe tbody tr th {\n",
       "        vertical-align: top;\n",
       "    }\n",
       "\n",
       "    .dataframe thead th {\n",
       "        text-align: right;\n",
       "    }\n",
       "</style>\n",
       "<table border=\"1\" class=\"dataframe\">\n",
       "  <thead>\n",
       "    <tr style=\"text-align: right;\">\n",
       "      <th></th>\n",
       "      <th>date_time</th>\n",
       "      <th>maxtempC</th>\n",
       "      <th>mintempC</th>\n",
       "      <th>totalSnow_cm</th>\n",
       "      <th>sunHour</th>\n",
       "      <th>uvIndex</th>\n",
       "      <th>moon_illumination</th>\n",
       "      <th>moonrise</th>\n",
       "      <th>moonset</th>\n",
       "      <th>sunrise</th>\n",
       "      <th>...</th>\n",
       "      <th>WindGustKmph</th>\n",
       "      <th>cloudcover</th>\n",
       "      <th>humidity</th>\n",
       "      <th>precipMM</th>\n",
       "      <th>pressure</th>\n",
       "      <th>tempC</th>\n",
       "      <th>visibility</th>\n",
       "      <th>winddirDegree</th>\n",
       "      <th>windspeedKmph</th>\n",
       "      <th>location</th>\n",
       "    </tr>\n",
       "  </thead>\n",
       "  <tbody>\n",
       "    <tr>\n",
       "      <th>0</th>\n",
       "      <td>2009-01-01 00:00:00</td>\n",
       "      <td>0</td>\n",
       "      <td>0</td>\n",
       "      <td>0.0</td>\n",
       "      <td>8.7</td>\n",
       "      <td>2</td>\n",
       "      <td>31</td>\n",
       "      <td>11:07 AM</td>\n",
       "      <td>10:50 PM</td>\n",
       "      <td>08:20 AM</td>\n",
       "      <td>...</td>\n",
       "      <td>38</td>\n",
       "      <td>22</td>\n",
       "      <td>62</td>\n",
       "      <td>0.0</td>\n",
       "      <td>1017</td>\n",
       "      <td>-6</td>\n",
       "      <td>10</td>\n",
       "      <td>316</td>\n",
       "      <td>27</td>\n",
       "      <td>10007</td>\n",
       "    </tr>\n",
       "    <tr>\n",
       "      <th>1</th>\n",
       "      <td>2009-01-01 06:00:00</td>\n",
       "      <td>0</td>\n",
       "      <td>0</td>\n",
       "      <td>0.0</td>\n",
       "      <td>8.7</td>\n",
       "      <td>2</td>\n",
       "      <td>31</td>\n",
       "      <td>11:07 AM</td>\n",
       "      <td>10:50 PM</td>\n",
       "      <td>08:20 AM</td>\n",
       "      <td>...</td>\n",
       "      <td>33</td>\n",
       "      <td>7</td>\n",
       "      <td>63</td>\n",
       "      <td>0.0</td>\n",
       "      <td>1023</td>\n",
       "      <td>-8</td>\n",
       "      <td>10</td>\n",
       "      <td>315</td>\n",
       "      <td>24</td>\n",
       "      <td>10007</td>\n",
       "    </tr>\n",
       "    <tr>\n",
       "      <th>2</th>\n",
       "      <td>2009-01-01 12:00:00</td>\n",
       "      <td>0</td>\n",
       "      <td>0</td>\n",
       "      <td>0.0</td>\n",
       "      <td>8.7</td>\n",
       "      <td>2</td>\n",
       "      <td>31</td>\n",
       "      <td>11:07 AM</td>\n",
       "      <td>10:50 PM</td>\n",
       "      <td>08:20 AM</td>\n",
       "      <td>...</td>\n",
       "      <td>26</td>\n",
       "      <td>4</td>\n",
       "      <td>42</td>\n",
       "      <td>0.0</td>\n",
       "      <td>1025</td>\n",
       "      <td>-3</td>\n",
       "      <td>10</td>\n",
       "      <td>304</td>\n",
       "      <td>23</td>\n",
       "      <td>10007</td>\n",
       "    </tr>\n",
       "    <tr>\n",
       "      <th>3</th>\n",
       "      <td>2009-01-01 18:00:00</td>\n",
       "      <td>0</td>\n",
       "      <td>0</td>\n",
       "      <td>0.0</td>\n",
       "      <td>8.7</td>\n",
       "      <td>2</td>\n",
       "      <td>31</td>\n",
       "      <td>11:07 AM</td>\n",
       "      <td>10:50 PM</td>\n",
       "      <td>08:20 AM</td>\n",
       "      <td>...</td>\n",
       "      <td>21</td>\n",
       "      <td>16</td>\n",
       "      <td>49</td>\n",
       "      <td>0.0</td>\n",
       "      <td>1025</td>\n",
       "      <td>-5</td>\n",
       "      <td>10</td>\n",
       "      <td>294</td>\n",
       "      <td>13</td>\n",
       "      <td>10007</td>\n",
       "    </tr>\n",
       "    <tr>\n",
       "      <th>4</th>\n",
       "      <td>2009-01-02 00:00:00</td>\n",
       "      <td>0</td>\n",
       "      <td>0</td>\n",
       "      <td>0.1</td>\n",
       "      <td>7.0</td>\n",
       "      <td>2</td>\n",
       "      <td>38</td>\n",
       "      <td>11:28 AM</td>\n",
       "      <td>11:54 PM</td>\n",
       "      <td>08:20 AM</td>\n",
       "      <td>...</td>\n",
       "      <td>14</td>\n",
       "      <td>46</td>\n",
       "      <td>49</td>\n",
       "      <td>0.0</td>\n",
       "      <td>1023</td>\n",
       "      <td>-6</td>\n",
       "      <td>10</td>\n",
       "      <td>260</td>\n",
       "      <td>8</td>\n",
       "      <td>10007</td>\n",
       "    </tr>\n",
       "  </tbody>\n",
       "</table>\n",
       "<p>5 rows × 25 columns</p>\n",
       "</div>"
      ],
      "text/plain": [
       "             date_time  maxtempC  mintempC  totalSnow_cm  sunHour  uvIndex  \\\n",
       "0  2009-01-01 00:00:00         0         0           0.0      8.7        2   \n",
       "1  2009-01-01 06:00:00         0         0           0.0      8.7        2   \n",
       "2  2009-01-01 12:00:00         0         0           0.0      8.7        2   \n",
       "3  2009-01-01 18:00:00         0         0           0.0      8.7        2   \n",
       "4  2009-01-02 00:00:00         0         0           0.1      7.0        2   \n",
       "\n",
       "   moon_illumination  moonrise   moonset   sunrise  ... WindGustKmph  \\\n",
       "0                 31  11:07 AM  10:50 PM  08:20 AM  ...           38   \n",
       "1                 31  11:07 AM  10:50 PM  08:20 AM  ...           33   \n",
       "2                 31  11:07 AM  10:50 PM  08:20 AM  ...           26   \n",
       "3                 31  11:07 AM  10:50 PM  08:20 AM  ...           21   \n",
       "4                 38  11:28 AM  11:54 PM  08:20 AM  ...           14   \n",
       "\n",
       "   cloudcover  humidity  precipMM  pressure  tempC  visibility  winddirDegree  \\\n",
       "0          22        62       0.0      1017     -6          10            316   \n",
       "1           7        63       0.0      1023     -8          10            315   \n",
       "2           4        42       0.0      1025     -3          10            304   \n",
       "3          16        49       0.0      1025     -5          10            294   \n",
       "4          46        49       0.0      1023     -6          10            260   \n",
       "\n",
       "   windspeedKmph  location  \n",
       "0             27     10007  \n",
       "1             24     10007  \n",
       "2             23     10007  \n",
       "3             13     10007  \n",
       "4              8     10007  \n",
       "\n",
       "[5 rows x 25 columns]"
      ]
     },
     "execution_count": 2,
     "metadata": {},
     "output_type": "execute_result"
    }
   ],
   "source": [
    "import pandas as pd\n",
    "\n",
    "new_york = pd.read_csv(\"../data/weather/new_york_ny.csv\")\n",
    "\n",
    "print(new_york.shape)\n",
    "new_york.head()"
   ]
  },
  {
   "cell_type": "code",
   "execution_count": 3,
   "metadata": {},
   "outputs": [
    {
     "data": {
      "text/plain": [
       "Index(['date_time', 'maxtempC', 'mintempC', 'totalSnow_cm', 'sunHour',\n",
       "       'uvIndex', 'moon_illumination', 'moonrise', 'moonset', 'sunrise',\n",
       "       'sunset', 'DewPointC', 'FeelsLikeC', 'HeatIndexC', 'WindChillC',\n",
       "       'WindGustKmph', 'cloudcover', 'humidity', 'precipMM', 'pressure',\n",
       "       'tempC', 'visibility', 'winddirDegree', 'windspeedKmph', 'location'],\n",
       "      dtype='object')"
      ]
     },
     "execution_count": 3,
     "metadata": {},
     "output_type": "execute_result"
    }
   ],
   "source": [
    "new_york.columns"
   ]
  },
  {
   "cell_type": "markdown",
   "metadata": {},
   "source": [
    "### Planning\n",
    "\n",
    "#### Pre-modeling Steps\n",
    "\n",
    "**Accounting for Seasonal Variations**\n",
    "\n",
    "\n",
    "- Create dynamic datetime splits separating the four seasons and taking the year as an input,\n",
    "- Use these datetime splits to subset New York City's data by year and season into smaller DataFrames,\n",
    "- Identify max, min, avg, and med of the following seasonal weather metrics (both metric and imperial because **AMERICA**):\n",
    "    - tempC\n",
    "    - FeelsLikeC, see above\n",
    "    - totalSnow_cm  **<--**  if None, final app will return a verbal message saying it does not Snow there\n",
    "    - humidity\n",
    "    \n",
    "- Store the above data in a single DataFrame and create visualizations for the annual progression of each\n",
    "\n",
    "\n",
    "**NOTE:** Data will begin on the first day of Spring 2009 and be cut off on the last day of summer 2020 so as to account for potentally eroneous data arising from partial seasons. Go back and make this adjustment to the *weather.py* file.\n",
    "\n",
    "\n",
    "**Applying the above process to all of the data**\n",
    "\n",
    "\n",
    "- Encapsulate the above process in a function or functions,\n",
    "- Devise means of applying the above function(s) to all csv files in the root data/weather directory,\n",
    "- Organize and store yearly averages in a by_year DataFrame,\n",
    "- Create visualizations showing how the average seasonal weather of each compares with the average of all,\n",
    "- Encapsulate the above visualization process into a function for easy use.\n",
    "\n",
    "\n",
    "**Testing that this process will function in Fast API in notebook**\n",
    "\n",
    "\n",
    "- Replicate Ryan Herr's example notebook material for testing Fast API locally to this notebook.\n",
    "- Test that the above visualization-making functions work locally."
   ]
  },
  {
   "cell_type": "code",
   "execution_count": 26,
   "metadata": {},
   "outputs": [
    {
     "data": {
      "text/plain": [
       "date_time             object\n",
       "maxtempC               int64\n",
       "mintempC               int64\n",
       "totalSnow_cm         float64\n",
       "sunHour              float64\n",
       "uvIndex                int64\n",
       "moon_illumination      int64\n",
       "moonrise              object\n",
       "moonset               object\n",
       "sunrise               object\n",
       "sunset                object\n",
       "DewPointC              int64\n",
       "FeelsLikeC             int64\n",
       "HeatIndexC             int64\n",
       "WindChillC             int64\n",
       "WindGustKmph           int64\n",
       "cloudcover             int64\n",
       "humidity               int64\n",
       "precipMM             float64\n",
       "pressure               int64\n",
       "tempC                  int64\n",
       "visibility             int64\n",
       "winddirDegree          int64\n",
       "windspeedKmph          int64\n",
       "location               int64\n",
       "dtype: object"
      ]
     },
     "execution_count": 26,
     "metadata": {},
     "output_type": "execute_result"
    }
   ],
   "source": [
    "new_york.dtypes"
   ]
  },
  {
   "cell_type": "code",
   "execution_count": 27,
   "metadata": {},
   "outputs": [
    {
     "data": {
      "text/plain": [
       "0        2009-01-01 00:00:00\n",
       "1        2009-01-01 06:00:00\n",
       "2        2009-01-01 12:00:00\n",
       "3        2009-01-01 18:00:00\n",
       "4        2009-01-02 00:00:00\n",
       "                ...         \n",
       "17051    2020-09-02 18:00:00\n",
       "17052    2020-09-03 00:00:00\n",
       "17053    2020-09-03 06:00:00\n",
       "17054    2020-09-03 12:00:00\n",
       "17055    2020-09-03 18:00:00\n",
       "Name: date_time, Length: 17056, dtype: object"
      ]
     },
     "execution_count": 27,
     "metadata": {},
     "output_type": "execute_result"
    }
   ],
   "source": [
    "new_york.date_time"
   ]
  },
  {
   "cell_type": "code",
   "execution_count": 49,
   "metadata": {},
   "outputs": [
    {
     "name": "stdout",
     "output_type": "stream",
     "text": [
      "<class 'str'> 2009-01-01 00:00:00\n"
     ]
    }
   ],
   "source": [
    "# Checking date_time format\n",
    "\n",
    "date = new_york.date_time[0]\n",
    "print(type(date), date)"
   ]
  },
  {
   "cell_type": "code",
   "execution_count": 50,
   "metadata": {},
   "outputs": [
    {
     "name": "stdout",
     "output_type": "stream",
     "text": [
      "<class 'datetime.datetime'> 2009-01-01 00:00:00\n"
     ]
    }
   ],
   "source": [
    "# converting datetime from string to datetime object\n",
    "\n",
    "from datetime import datetime\n",
    "\n",
    "date = datetime.strptime(date, '%Y-%m-%d %H:%M:%S')\n",
    "\n",
    "print(type(date), date)"
   ]
  },
  {
   "cell_type": "code",
   "execution_count": 52,
   "metadata": {},
   "outputs": [
    {
     "data": {
      "text/plain": [
       "0   2009-01-01 00:00:00\n",
       "1   2009-01-01 06:00:00\n",
       "2   2009-01-01 12:00:00\n",
       "3   2009-01-01 18:00:00\n",
       "4   2009-01-02 00:00:00\n",
       "Name: date_time, dtype: datetime64[ns]"
      ]
     },
     "execution_count": 52,
     "metadata": {},
     "output_type": "execute_result"
    }
   ],
   "source": [
    "# Applying change to all dates\n",
    "\n",
    "new_york.date_time = new_york.date_time.apply(lambda d: datetime.strptime(d, '%Y-%m-%d %H:%M:%S'))\n",
    "new_york.date_time.head()"
   ]
  },
  {
   "cell_type": "markdown",
   "metadata": {},
   "source": [
    "### Meterological Seasons\n",
    "\n",
    "**Spring:** March 1 - May 31\n",
    "\n",
    "**Summer:** June 1 - August 31\n",
    "\n",
    "**Fall:** September 1 - November 30\n",
    "\n",
    "**Winter:** December 1 - April 30"
   ]
  },
  {
   "cell_type": "code",
   "execution_count": 59,
   "metadata": {},
   "outputs": [
    {
     "name": "stdout",
     "output_type": "stream",
     "text": [
      "['__add__', '__class__', '__delattr__', '__dir__', '__doc__', '__eq__', '__format__', '__ge__', '__getattribute__', '__gt__', '__hash__', '__init__', '__init_subclass__', '__le__', '__lt__', '__ne__', '__new__', '__radd__', '__reduce__', '__reduce_ex__', '__repr__', '__rsub__', '__setattr__', '__sizeof__', '__str__', '__sub__', '__subclasshook__', 'astimezone', 'combine', 'ctime', 'date', 'day', 'dst', 'fold', 'fromisocalendar', 'fromisoformat', 'fromordinal', 'fromtimestamp', 'hour', 'isocalendar', 'isoformat', 'isoweekday', 'max', 'microsecond', 'min', 'minute', 'month', 'now', 'replace', 'resolution', 'second', 'strftime', 'strptime', 'time', 'timestamp', 'timetuple', 'timetz', 'today', 'toordinal', 'tzinfo', 'tzname', 'utcfromtimestamp', 'utcnow', 'utcoffset', 'utctimetuple', 'weekday', 'year']\n"
     ]
    }
   ],
   "source": [
    "print(dir(datetime))"
   ]
  },
  {
   "cell_type": "code",
   "execution_count": 63,
   "metadata": {},
   "outputs": [
    {
     "name": "stdout",
     "output_type": "stream",
     "text": [
      "[datetime.datetime(2009, 3, 1, 0, 0), datetime.datetime(2009, 6, 1, 0, 0), datetime.datetime(2009, 9, 1, 0, 0), datetime.datetime(2009, 12, 1, 0, 0), datetime.datetime(2010, 3, 1, 0, 0), datetime.datetime(2010, 6, 1, 0, 0), datetime.datetime(2010, 9, 1, 0, 0), datetime.datetime(2010, 12, 1, 0, 0), datetime.datetime(2011, 3, 1, 0, 0), datetime.datetime(2011, 6, 1, 0, 0), datetime.datetime(2011, 9, 1, 0, 0), datetime.datetime(2011, 12, 1, 0, 0), datetime.datetime(2012, 3, 1, 0, 0), datetime.datetime(2012, 6, 1, 0, 0), datetime.datetime(2012, 9, 1, 0, 0), datetime.datetime(2012, 12, 1, 0, 0), datetime.datetime(2013, 3, 1, 0, 0), datetime.datetime(2013, 6, 1, 0, 0), datetime.datetime(2013, 9, 1, 0, 0), datetime.datetime(2013, 12, 1, 0, 0), datetime.datetime(2014, 3, 1, 0, 0), datetime.datetime(2014, 6, 1, 0, 0), datetime.datetime(2014, 9, 1, 0, 0), datetime.datetime(2014, 12, 1, 0, 0), datetime.datetime(2015, 3, 1, 0, 0), datetime.datetime(2015, 6, 1, 0, 0), datetime.datetime(2015, 9, 1, 0, 0), datetime.datetime(2015, 12, 1, 0, 0), datetime.datetime(2016, 3, 1, 0, 0), datetime.datetime(2016, 6, 1, 0, 0), datetime.datetime(2016, 9, 1, 0, 0), datetime.datetime(2016, 12, 1, 0, 0), datetime.datetime(2017, 3, 1, 0, 0), datetime.datetime(2017, 6, 1, 0, 0), datetime.datetime(2017, 9, 1, 0, 0), datetime.datetime(2017, 12, 1, 0, 0), datetime.datetime(2018, 3, 1, 0, 0), datetime.datetime(2018, 6, 1, 0, 0), datetime.datetime(2018, 9, 1, 0, 0), datetime.datetime(2018, 12, 1, 0, 0), datetime.datetime(2019, 3, 1, 0, 0), datetime.datetime(2019, 6, 1, 0, 0), datetime.datetime(2019, 9, 1, 0, 0), datetime.datetime(2019, 12, 1, 0, 0), datetime.datetime(2020, 3, 1, 0, 0), datetime.datetime(2020, 6, 1, 0, 0), datetime.datetime(2020, 9, 1, 0, 0), datetime.datetime(2020, 12, 1, 0, 0)]\n"
     ]
    }
   ],
   "source": [
    "splits = []\n",
    "\n",
    "for i in range(2009, 2021):\n",
    "    splits.append(datetime(i, 3, 1))\n",
    "    splits.append(datetime(i, 6, 1))\n",
    "    splits.append(datetime(i, 9, 1))\n",
    "    splits.append(datetime(i, 12, 1))\n",
    "    \n",
    "print(splits)"
   ]
  },
  {
   "cell_type": "code",
   "execution_count": 64,
   "metadata": {},
   "outputs": [
    {
     "data": {
      "text/plain": [
       "47"
      ]
     },
     "execution_count": 64,
     "metadata": {},
     "output_type": "execute_result"
    }
   ],
   "source": [
    "splits = splits[1:]\n",
    "len(splits)"
   ]
  },
  {
   "cell_type": "code",
   "execution_count": 65,
   "metadata": {},
   "outputs": [
    {
     "name": "stdout",
     "output_type": "stream",
     "text": [
      "(604, 25)\n"
     ]
    },
    {
     "data": {
      "text/html": [
       "<div>\n",
       "<style scoped>\n",
       "    .dataframe tbody tr th:only-of-type {\n",
       "        vertical-align: middle;\n",
       "    }\n",
       "\n",
       "    .dataframe tbody tr th {\n",
       "        vertical-align: top;\n",
       "    }\n",
       "\n",
       "    .dataframe thead th {\n",
       "        text-align: right;\n",
       "    }\n",
       "</style>\n",
       "<table border=\"1\" class=\"dataframe\">\n",
       "  <thead>\n",
       "    <tr style=\"text-align: right;\">\n",
       "      <th></th>\n",
       "      <th>date_time</th>\n",
       "      <th>maxtempC</th>\n",
       "      <th>mintempC</th>\n",
       "      <th>totalSnow_cm</th>\n",
       "      <th>sunHour</th>\n",
       "      <th>uvIndex</th>\n",
       "      <th>moon_illumination</th>\n",
       "      <th>moonrise</th>\n",
       "      <th>moonset</th>\n",
       "      <th>sunrise</th>\n",
       "      <th>...</th>\n",
       "      <th>WindGustKmph</th>\n",
       "      <th>cloudcover</th>\n",
       "      <th>humidity</th>\n",
       "      <th>precipMM</th>\n",
       "      <th>pressure</th>\n",
       "      <th>tempC</th>\n",
       "      <th>visibility</th>\n",
       "      <th>winddirDegree</th>\n",
       "      <th>windspeedKmph</th>\n",
       "      <th>location</th>\n",
       "    </tr>\n",
       "  </thead>\n",
       "  <tbody>\n",
       "    <tr>\n",
       "      <th>0</th>\n",
       "      <td>2009-01-01 00:00:00</td>\n",
       "      <td>0</td>\n",
       "      <td>0</td>\n",
       "      <td>0.0</td>\n",
       "      <td>8.7</td>\n",
       "      <td>2</td>\n",
       "      <td>31</td>\n",
       "      <td>11:07 AM</td>\n",
       "      <td>10:50 PM</td>\n",
       "      <td>08:20 AM</td>\n",
       "      <td>...</td>\n",
       "      <td>38</td>\n",
       "      <td>22</td>\n",
       "      <td>62</td>\n",
       "      <td>0.0</td>\n",
       "      <td>1017</td>\n",
       "      <td>-6</td>\n",
       "      <td>10</td>\n",
       "      <td>316</td>\n",
       "      <td>27</td>\n",
       "      <td>10007</td>\n",
       "    </tr>\n",
       "    <tr>\n",
       "      <th>1</th>\n",
       "      <td>2009-01-01 06:00:00</td>\n",
       "      <td>0</td>\n",
       "      <td>0</td>\n",
       "      <td>0.0</td>\n",
       "      <td>8.7</td>\n",
       "      <td>2</td>\n",
       "      <td>31</td>\n",
       "      <td>11:07 AM</td>\n",
       "      <td>10:50 PM</td>\n",
       "      <td>08:20 AM</td>\n",
       "      <td>...</td>\n",
       "      <td>33</td>\n",
       "      <td>7</td>\n",
       "      <td>63</td>\n",
       "      <td>0.0</td>\n",
       "      <td>1023</td>\n",
       "      <td>-8</td>\n",
       "      <td>10</td>\n",
       "      <td>315</td>\n",
       "      <td>24</td>\n",
       "      <td>10007</td>\n",
       "    </tr>\n",
       "    <tr>\n",
       "      <th>2</th>\n",
       "      <td>2009-01-01 12:00:00</td>\n",
       "      <td>0</td>\n",
       "      <td>0</td>\n",
       "      <td>0.0</td>\n",
       "      <td>8.7</td>\n",
       "      <td>2</td>\n",
       "      <td>31</td>\n",
       "      <td>11:07 AM</td>\n",
       "      <td>10:50 PM</td>\n",
       "      <td>08:20 AM</td>\n",
       "      <td>...</td>\n",
       "      <td>26</td>\n",
       "      <td>4</td>\n",
       "      <td>42</td>\n",
       "      <td>0.0</td>\n",
       "      <td>1025</td>\n",
       "      <td>-3</td>\n",
       "      <td>10</td>\n",
       "      <td>304</td>\n",
       "      <td>23</td>\n",
       "      <td>10007</td>\n",
       "    </tr>\n",
       "    <tr>\n",
       "      <th>3</th>\n",
       "      <td>2009-01-01 18:00:00</td>\n",
       "      <td>0</td>\n",
       "      <td>0</td>\n",
       "      <td>0.0</td>\n",
       "      <td>8.7</td>\n",
       "      <td>2</td>\n",
       "      <td>31</td>\n",
       "      <td>11:07 AM</td>\n",
       "      <td>10:50 PM</td>\n",
       "      <td>08:20 AM</td>\n",
       "      <td>...</td>\n",
       "      <td>21</td>\n",
       "      <td>16</td>\n",
       "      <td>49</td>\n",
       "      <td>0.0</td>\n",
       "      <td>1025</td>\n",
       "      <td>-5</td>\n",
       "      <td>10</td>\n",
       "      <td>294</td>\n",
       "      <td>13</td>\n",
       "      <td>10007</td>\n",
       "    </tr>\n",
       "    <tr>\n",
       "      <th>4</th>\n",
       "      <td>2009-01-02 00:00:00</td>\n",
       "      <td>0</td>\n",
       "      <td>0</td>\n",
       "      <td>0.1</td>\n",
       "      <td>7.0</td>\n",
       "      <td>2</td>\n",
       "      <td>38</td>\n",
       "      <td>11:28 AM</td>\n",
       "      <td>11:54 PM</td>\n",
       "      <td>08:20 AM</td>\n",
       "      <td>...</td>\n",
       "      <td>14</td>\n",
       "      <td>46</td>\n",
       "      <td>49</td>\n",
       "      <td>0.0</td>\n",
       "      <td>1023</td>\n",
       "      <td>-6</td>\n",
       "      <td>10</td>\n",
       "      <td>260</td>\n",
       "      <td>8</td>\n",
       "      <td>10007</td>\n",
       "    </tr>\n",
       "  </tbody>\n",
       "</table>\n",
       "<p>5 rows × 25 columns</p>\n",
       "</div>"
      ],
      "text/plain": [
       "            date_time  maxtempC  mintempC  totalSnow_cm  sunHour  uvIndex  \\\n",
       "0 2009-01-01 00:00:00         0         0           0.0      8.7        2   \n",
       "1 2009-01-01 06:00:00         0         0           0.0      8.7        2   \n",
       "2 2009-01-01 12:00:00         0         0           0.0      8.7        2   \n",
       "3 2009-01-01 18:00:00         0         0           0.0      8.7        2   \n",
       "4 2009-01-02 00:00:00         0         0           0.1      7.0        2   \n",
       "\n",
       "   moon_illumination  moonrise   moonset   sunrise  ... WindGustKmph  \\\n",
       "0                 31  11:07 AM  10:50 PM  08:20 AM  ...           38   \n",
       "1                 31  11:07 AM  10:50 PM  08:20 AM  ...           33   \n",
       "2                 31  11:07 AM  10:50 PM  08:20 AM  ...           26   \n",
       "3                 31  11:07 AM  10:50 PM  08:20 AM  ...           21   \n",
       "4                 38  11:28 AM  11:54 PM  08:20 AM  ...           14   \n",
       "\n",
       "   cloudcover  humidity  precipMM  pressure  tempC  visibility  winddirDegree  \\\n",
       "0          22        62       0.0      1017     -6          10            316   \n",
       "1           7        63       0.0      1023     -8          10            315   \n",
       "2           4        42       0.0      1025     -3          10            304   \n",
       "3          16        49       0.0      1025     -5          10            294   \n",
       "4          46        49       0.0      1023     -6          10            260   \n",
       "\n",
       "   windspeedKmph  location  \n",
       "0             27     10007  \n",
       "1             24     10007  \n",
       "2             23     10007  \n",
       "3             13     10007  \n",
       "4              8     10007  \n",
       "\n",
       "[5 rows x 25 columns]"
      ]
     },
     "execution_count": 65,
     "metadata": {},
     "output_type": "execute_result"
    }
   ],
   "source": [
    "spring_2009 = new_york[new_york.date_time < splits[0]]\n",
    "\n",
    "print(spring_2009.shape)\n",
    "spring_2009.head()"
   ]
  },
  {
   "cell_type": "code",
   "execution_count": 71,
   "metadata": {},
   "outputs": [
    {
     "data": {
      "text/plain": [
       "count    604.000000\n",
       "mean       5.743377\n",
       "std        7.970013\n",
       "min      -14.000000\n",
       "25%        0.000000\n",
       "50%        6.000000\n",
       "75%       11.000000\n",
       "max       27.000000\n",
       "Name: tempC, dtype: float64"
      ]
     },
     "execution_count": 71,
     "metadata": {},
     "output_type": "execute_result"
    }
   ],
   "source": [
    "spring_2009.tempC.describe()"
   ]
  },
  {
   "cell_type": "code",
   "execution_count": 81,
   "metadata": {},
   "outputs": [],
   "source": [
    "# To Fahrenheit function\n",
    "\n",
    "def to_fahr(temp: float, system=\"celsius\") -> float:\n",
    "    if system == \"celsius\":\n",
    "        return ((temp * 9) / 5) + 32\n",
    "    elif system == \"kelvin\":\n",
    "        return ((temp * 9) / 5) - 459.67\n",
    "    else:\n",
    "        raise Exception(ValueError (f'Invalid system type \"{system}\"'))"
   ]
  },
  {
   "cell_type": "code",
   "execution_count": 82,
   "metadata": {},
   "outputs": [
    {
     "ename": "Exception",
     "evalue": "Invalid system type \"kelv\"",
     "output_type": "error",
     "traceback": [
      "\u001b[0;31m---------------------------------------------------------------------------\u001b[0m",
      "\u001b[0;31mException\u001b[0m                                 Traceback (most recent call last)",
      "\u001b[0;32m<ipython-input-82-0805c9ad1327>\u001b[0m in \u001b[0;36m<module>\u001b[0;34m\u001b[0m\n\u001b[0;32m----> 1\u001b[0;31m \u001b[0mto_fahr\u001b[0m\u001b[0;34m(\u001b[0m\u001b[0;36m304.261\u001b[0m\u001b[0;34m,\u001b[0m \u001b[0msystem\u001b[0m\u001b[0;34m=\u001b[0m\u001b[0;34m\"kelv\"\u001b[0m\u001b[0;34m)\u001b[0m\u001b[0;34m\u001b[0m\u001b[0;34m\u001b[0m\u001b[0m\n\u001b[0m",
      "\u001b[0;32m<ipython-input-81-594a5ed41e1c>\u001b[0m in \u001b[0;36mto_fahr\u001b[0;34m(temp, system)\u001b[0m\n\u001b[1;32m      7\u001b[0m         \u001b[0;32mreturn\u001b[0m \u001b[0;34m(\u001b[0m\u001b[0;34m(\u001b[0m\u001b[0mtemp\u001b[0m \u001b[0;34m*\u001b[0m \u001b[0;36m9\u001b[0m\u001b[0;34m)\u001b[0m \u001b[0;34m/\u001b[0m \u001b[0;36m5\u001b[0m\u001b[0;34m)\u001b[0m \u001b[0;34m-\u001b[0m \u001b[0;36m459.67\u001b[0m\u001b[0;34m\u001b[0m\u001b[0;34m\u001b[0m\u001b[0m\n\u001b[1;32m      8\u001b[0m     \u001b[0;32melse\u001b[0m\u001b[0;34m:\u001b[0m\u001b[0;34m\u001b[0m\u001b[0;34m\u001b[0m\u001b[0m\n\u001b[0;32m----> 9\u001b[0;31m         \u001b[0;32mraise\u001b[0m \u001b[0mException\u001b[0m\u001b[0;34m(\u001b[0m\u001b[0mValueError\u001b[0m \u001b[0;34m(\u001b[0m\u001b[0;34mf'Invalid system type \"{system}\"'\u001b[0m\u001b[0;34m)\u001b[0m\u001b[0;34m)\u001b[0m\u001b[0;34m\u001b[0m\u001b[0;34m\u001b[0m\u001b[0m\n\u001b[0m",
      "\u001b[0;31mException\u001b[0m: Invalid system type \"kelv\""
     ]
    }
   ],
   "source": []
  },
  {
   "cell_type": "code",
   "execution_count": null,
   "metadata": {},
   "outputs": [],
   "source": []
  }
 ],
 "metadata": {
  "kernelspec": {
   "display_name": "Python 3",
   "language": "python",
   "name": "python3"
  },
  "language_info": {
   "codemirror_mode": {
    "name": "ipython",
    "version": 3
   },
   "file_extension": ".py",
   "mimetype": "text/x-python",
   "name": "python",
   "nbconvert_exporter": "python",
   "pygments_lexer": "ipython3",
   "version": "3.8.3"
  }
 },
 "nbformat": 4,
 "nbformat_minor": 4
}
